{
 "cells": [
  {
   "cell_type": "markdown",
   "metadata": {},
   "source": [
    "# **Dexcom Clarity Readings - SQLite with SQL Magic**"
   ]
  },
  {
   "cell_type": "markdown",
   "metadata": {},
   "source": [
    "This Python program automates the addition of new glucose readings from a CSV file into an SQLite database while ensuring data consistency and integrity. It automatically detects the latest CSV file, eliminating the need to manually rename it or move it to the program directory. If a new file is found, the program loads and processes the data by identifying and removing duplicates, validating date continuity, and restricting stored readings to the most recent 90 days. Older entries are deleted to optimize storage. The program then exports the latest 90 days of readings to a CSV file for Tableau visualizations."
   ]
  },
  {
   "cell_type": "markdown",
   "metadata": {},
   "source": [
    "Run on Python 3.13 | No errors | No warnings"
   ]
  },
  {
   "cell_type": "code",
   "execution_count": 1,
   "metadata": {},
   "outputs": [],
   "source": [
    "# Import packages\n",
    "\n",
    "# For data manipulation\n",
    "import numpy as np\n",
    "import pandas as pd\n",
    "\n",
    "# For working with datetime objects\n",
    "from datetime import datetime\n",
    "\n",
    "# For working with SQLite databases\n",
    "import sqlite3\n",
    "\n",
    "# For working with files\n",
    "import glob\n",
    "import os\n",
    "\n",
    "# For working with system commands\n",
    "import sys"
   ]
  },
  {
   "cell_type": "code",
   "execution_count": 2,
   "metadata": {},
   "outputs": [],
   "source": [
    "# Load the SQL Magic extension\n",
    "%load_ext sql"
   ]
  },
  {
   "cell_type": "code",
   "execution_count": 3,
   "metadata": {},
   "outputs": [
    {
     "data": {
      "text/html": [
       "<span style=\"None\">Connecting to &#x27;sqlite:///ClarityHistory.db&#x27;</span>"
      ],
      "text/plain": [
       "Connecting to 'sqlite:///ClarityHistory.db'"
      ]
     },
     "metadata": {},
     "output_type": "display_data"
    }
   ],
   "source": [
    "# Create connection to the SQLite database\n",
    "%sql sqlite:///ClarityHistory.db"
   ]
  },
  {
   "cell_type": "code",
   "execution_count": 4,
   "metadata": {},
   "outputs": [
    {
     "data": {
      "text/html": [
       "<span style=\"None\">Running query in &#x27;sqlite:///ClarityHistory.db&#x27;</span>"
      ],
      "text/plain": [
       "Running query in 'sqlite:///ClarityHistory.db'"
      ]
     },
     "metadata": {},
     "output_type": "display_data"
    },
    {
     "data": {
      "text/html": [
       "<table>\n",
       "    <thead>\n",
       "        <tr>\n",
       "            <th>COUNT(*)</th>\n",
       "        </tr>\n",
       "    </thead>\n",
       "    <tbody>\n",
       "        <tr>\n",
       "            <td>25702</td>\n",
       "        </tr>\n",
       "    </tbody>\n",
       "</table>"
      ],
      "text/plain": [
       "+----------+\n",
       "| COUNT(*) |\n",
       "+----------+\n",
       "|  25702   |\n",
       "+----------+"
      ]
     },
     "execution_count": 4,
     "metadata": {},
     "output_type": "execute_result"
    }
   ],
   "source": [
    "# Get the record count for CLARITY_DATA\n",
    "%sql SELECT COUNT(*) FROM CLARITY_DATA"
   ]
  },
  {
   "cell_type": "code",
   "execution_count": 5,
   "metadata": {},
   "outputs": [
    {
     "data": {
      "text/html": [
       "<span style=\"None\">Running query in &#x27;sqlite:///ClarityHistory.db&#x27;</span>"
      ],
      "text/plain": [
       "Running query in 'sqlite:///ClarityHistory.db'"
      ]
     },
     "metadata": {},
     "output_type": "display_data"
    },
    {
     "data": {
      "text/html": [
       "<table>\n",
       "    <thead>\n",
       "        <tr>\n",
       "            <th>Date</th>\n",
       "            <th>Time</th>\n",
       "            <th>DateTime</th>\n",
       "            <th>Value</th>\n",
       "            <th>Treatment</th>\n",
       "            <th>Source</th>\n",
       "        </tr>\n",
       "    </thead>\n",
       "    <tbody>\n",
       "        <tr>\n",
       "            <td>2024-12-29</td>\n",
       "            <td>12:04 AM</td>\n",
       "            <td>2024-12-29 00:04:16</td>\n",
       "            <td>93</td>\n",
       "            <td>Mounjaro 12.5</td>\n",
       "            <td>CGM</td>\n",
       "        </tr>\n",
       "        <tr>\n",
       "            <td>2024-12-29</td>\n",
       "            <td>12:09 AM</td>\n",
       "            <td>2024-12-29 00:09:16</td>\n",
       "            <td>91</td>\n",
       "            <td>Mounjaro 12.5</td>\n",
       "            <td>CGM</td>\n",
       "        </tr>\n",
       "        <tr>\n",
       "            <td>2024-12-29</td>\n",
       "            <td>12:14 AM</td>\n",
       "            <td>2024-12-29 00:14:17</td>\n",
       "            <td>90</td>\n",
       "            <td>Mounjaro 12.5</td>\n",
       "            <td>CGM</td>\n",
       "        </tr>\n",
       "        <tr>\n",
       "            <td>2024-12-29</td>\n",
       "            <td>12:19 AM</td>\n",
       "            <td>2024-12-29 00:19:17</td>\n",
       "            <td>89</td>\n",
       "            <td>Mounjaro 12.5</td>\n",
       "            <td>CGM</td>\n",
       "        </tr>\n",
       "        <tr>\n",
       "            <td>2024-12-29</td>\n",
       "            <td>12:24 AM</td>\n",
       "            <td>2024-12-29 00:24:16</td>\n",
       "            <td>84</td>\n",
       "            <td>Mounjaro 12.5</td>\n",
       "            <td>CGM</td>\n",
       "        </tr>\n",
       "    </tbody>\n",
       "</table>"
      ],
      "text/plain": [
       "+------------+----------+---------------------+-------+---------------+--------+\n",
       "|    Date    |   Time   |       DateTime      | Value |   Treatment   | Source |\n",
       "+------------+----------+---------------------+-------+---------------+--------+\n",
       "| 2024-12-29 | 12:04 AM | 2024-12-29 00:04:16 |   93  | Mounjaro 12.5 |  CGM   |\n",
       "| 2024-12-29 | 12:09 AM | 2024-12-29 00:09:16 |   91  | Mounjaro 12.5 |  CGM   |\n",
       "| 2024-12-29 | 12:14 AM | 2024-12-29 00:14:17 |   90  | Mounjaro 12.5 |  CGM   |\n",
       "| 2024-12-29 | 12:19 AM | 2024-12-29 00:19:17 |   89  | Mounjaro 12.5 |  CGM   |\n",
       "| 2024-12-29 | 12:24 AM | 2024-12-29 00:24:16 |   84  | Mounjaro 12.5 |  CGM   |\n",
       "+------------+----------+---------------------+-------+---------------+--------+"
      ]
     },
     "execution_count": 5,
     "metadata": {},
     "output_type": "execute_result"
    }
   ],
   "source": [
    "# Display the first 5 rows of the CLARITY_DATA table\n",
    "%sql SELECT * FROM CLARITY_DATA LIMIT 5"
   ]
  },
  {
   "cell_type": "code",
   "execution_count": 6,
   "metadata": {},
   "outputs": [
    {
     "data": {
      "text/html": [
       "<span style=\"None\">Running query in &#x27;sqlite:///ClarityHistory.db&#x27;</span>"
      ],
      "text/plain": [
       "Running query in 'sqlite:///ClarityHistory.db'"
      ]
     },
     "metadata": {},
     "output_type": "display_data"
    },
    {
     "data": {
      "text/html": [
       "<table>\n",
       "    <thead>\n",
       "        <tr>\n",
       "            <th>cid</th>\n",
       "            <th>name</th>\n",
       "            <th>type</th>\n",
       "            <th>notnull</th>\n",
       "            <th>dflt_value</th>\n",
       "            <th>pk</th>\n",
       "        </tr>\n",
       "    </thead>\n",
       "    <tbody>\n",
       "        <tr>\n",
       "            <td>0</td>\n",
       "            <td>Date</td>\n",
       "            <td>TEXT</td>\n",
       "            <td>0</td>\n",
       "            <td>None</td>\n",
       "            <td>0</td>\n",
       "        </tr>\n",
       "        <tr>\n",
       "            <td>1</td>\n",
       "            <td>Time</td>\n",
       "            <td>TEXT</td>\n",
       "            <td>0</td>\n",
       "            <td>None</td>\n",
       "            <td>0</td>\n",
       "        </tr>\n",
       "        <tr>\n",
       "            <td>2</td>\n",
       "            <td>DateTime</td>\n",
       "            <td>TEXT</td>\n",
       "            <td>0</td>\n",
       "            <td>None</td>\n",
       "            <td>0</td>\n",
       "        </tr>\n",
       "        <tr>\n",
       "            <td>3</td>\n",
       "            <td>Value</td>\n",
       "            <td>INTEGER</td>\n",
       "            <td>0</td>\n",
       "            <td>None</td>\n",
       "            <td>0</td>\n",
       "        </tr>\n",
       "        <tr>\n",
       "            <td>4</td>\n",
       "            <td>Treatment</td>\n",
       "            <td>TEXT</td>\n",
       "            <td>0</td>\n",
       "            <td>None</td>\n",
       "            <td>0</td>\n",
       "        </tr>\n",
       "        <tr>\n",
       "            <td>5</td>\n",
       "            <td>Source</td>\n",
       "            <td>TEXT</td>\n",
       "            <td>0</td>\n",
       "            <td>None</td>\n",
       "            <td>0</td>\n",
       "        </tr>\n",
       "    </tbody>\n",
       "</table>"
      ],
      "text/plain": [
       "+-----+-----------+---------+---------+------------+----+\n",
       "| cid |    name   |   type  | notnull | dflt_value | pk |\n",
       "+-----+-----------+---------+---------+------------+----+\n",
       "|  0  |    Date   |   TEXT  |    0    |    None    | 0  |\n",
       "|  1  |    Time   |   TEXT  |    0    |    None    | 0  |\n",
       "|  2  |  DateTime |   TEXT  |    0    |    None    | 0  |\n",
       "|  3  |   Value   | INTEGER |    0    |    None    | 0  |\n",
       "|  4  | Treatment |   TEXT  |    0    |    None    | 0  |\n",
       "|  5  |   Source  |   TEXT  |    0    |    None    | 0  |\n",
       "+-----+-----------+---------+---------+------------+----+"
      ]
     },
     "execution_count": 6,
     "metadata": {},
     "output_type": "execute_result"
    }
   ],
   "source": [
    "# Display column names and data types for the CLARITY_DATA table\n",
    "%sql PRAGMA table_info(CLARITY_DATA)"
   ]
  },
  {
   "cell_type": "code",
   "execution_count": 7,
   "metadata": {},
   "outputs": [
    {
     "data": {
      "text/html": [
       "<span style=\"None\">Running query in &#x27;sqlite:///ClarityHistory.db&#x27;</span>"
      ],
      "text/plain": [
       "Running query in 'sqlite:///ClarityHistory.db'"
      ]
     },
     "metadata": {},
     "output_type": "display_data"
    },
    {
     "data": {
      "text/html": [
       "<table>\n",
       "    <thead>\n",
       "        <tr>\n",
       "            <th>Min_Date</th>\n",
       "            <th>Max_Date</th>\n",
       "        </tr>\n",
       "    </thead>\n",
       "    <tbody>\n",
       "        <tr>\n",
       "            <td>2024-12-29</td>\n",
       "            <td>2025-03-28</td>\n",
       "        </tr>\n",
       "    </tbody>\n",
       "</table>"
      ],
      "text/plain": [
       "+------------+------------+\n",
       "|  Min_Date  |  Max_Date  |\n",
       "+------------+------------+\n",
       "| 2024-12-29 | 2025-03-28 |\n",
       "+------------+------------+"
      ]
     },
     "execution_count": 7,
     "metadata": {},
     "output_type": "execute_result"
    }
   ],
   "source": [
    "%%sql\n",
    "-- Display the first and last dates in the table\n",
    "SELECT MIN(DATE(Date)) AS Min_Date, MAX(DATE(Date)) AS Max_Date\n",
    "FROM CLARITY_DATA;"
   ]
  },
  {
   "cell_type": "code",
   "execution_count": 8,
   "metadata": {},
   "outputs": [
    {
     "data": {
      "text/html": [
       "<span style=\"None\">Running query in &#x27;sqlite:///ClarityHistory.db&#x27;</span>"
      ],
      "text/plain": [
       "Running query in 'sqlite:///ClarityHistory.db'"
      ]
     },
     "metadata": {},
     "output_type": "display_data"
    },
    {
     "data": {
      "text/html": [
       "<table>\n",
       "    <thead>\n",
       "        <tr>\n",
       "            <th>COUNT(DISTINCT Date)</th>\n",
       "        </tr>\n",
       "    </thead>\n",
       "    <tbody>\n",
       "        <tr>\n",
       "            <td>90</td>\n",
       "        </tr>\n",
       "    </tbody>\n",
       "</table>"
      ],
      "text/plain": [
       "+----------------------+\n",
       "| COUNT(DISTINCT Date) |\n",
       "+----------------------+\n",
       "|          90          |\n",
       "+----------------------+"
      ]
     },
     "execution_count": 8,
     "metadata": {},
     "output_type": "execute_result"
    }
   ],
   "source": [
    "# Get the number of unique days in the CLARITY_DATA table\n",
    "%sql SELECT COUNT(DISTINCT Date) FROM CLARITY_DATA"
   ]
  },
  {
   "cell_type": "code",
   "execution_count": 9,
   "metadata": {},
   "outputs": [
    {
     "name": "stdout",
     "output_type": "stream",
     "text": [
      "Found file: Clarity_Export_Smith_Jeffrey_2025-03-30_124811.csv\n"
     ]
    }
   ],
   "source": [
    "# Find the latest Clarity data file\n",
    "\n",
    "# Define the directory and filename pattern\n",
    "directory = r\"C:\\Users\\clock\\Downloads\"\n",
    "pattern = \"Clarity_Export_Smith_Jeffrey_*.csv\"\n",
    "\n",
    "# Construct the full search pattern\n",
    "search_pattern = os.path.join(directory, pattern)\n",
    "\n",
    "# Find all matching files\n",
    "matching_files = glob.glob(search_pattern)\n",
    "\n",
    "# Ensure there is at least one match\n",
    "if not matching_files:\n",
    "    raise SystemExit(\"No matching files found. Exiting program.\")\n",
    "\n",
    "# Sort files by modification time to get the most recent one\n",
    "latest_file = max(matching_files, key=os.path.getmtime)\n",
    "\n",
    "# Extract just the file name\n",
    "file_name = os.path.basename(latest_file)\n",
    "\n",
    "print(f\"Found file: {file_name}\")"
   ]
  },
  {
   "cell_type": "code",
   "execution_count": 10,
   "metadata": {},
   "outputs": [],
   "source": [
    "# Load new Clarity data\n",
    "df0 = pd.read_csv(latest_file, usecols=['Index', 'Timestamp (YYYY-MM-DDThh:mm:ss)', 'Event Type', 'Glucose Value (mg/dL)'])"
   ]
  },
  {
   "cell_type": "code",
   "execution_count": 11,
   "metadata": {},
   "outputs": [
    {
     "data": {
      "text/html": [
       "<div>\n",
       "<style scoped>\n",
       "    .dataframe tbody tr th:only-of-type {\n",
       "        vertical-align: middle;\n",
       "    }\n",
       "\n",
       "    .dataframe tbody tr th {\n",
       "        vertical-align: top;\n",
       "    }\n",
       "\n",
       "    .dataframe thead th {\n",
       "        text-align: right;\n",
       "    }\n",
       "</style>\n",
       "<table border=\"1\" class=\"dataframe\">\n",
       "  <thead>\n",
       "    <tr style=\"text-align: right;\">\n",
       "      <th></th>\n",
       "      <th>Index</th>\n",
       "      <th>Timestamp (YYYY-MM-DDThh:mm:ss)</th>\n",
       "      <th>Event Type</th>\n",
       "      <th>Glucose Value (mg/dL)</th>\n",
       "    </tr>\n",
       "  </thead>\n",
       "  <tbody>\n",
       "    <tr>\n",
       "      <th>0</th>\n",
       "      <td>1</td>\n",
       "      <td>NaN</td>\n",
       "      <td>FirstName</td>\n",
       "      <td>NaN</td>\n",
       "    </tr>\n",
       "    <tr>\n",
       "      <th>1</th>\n",
       "      <td>2</td>\n",
       "      <td>NaN</td>\n",
       "      <td>LastName</td>\n",
       "      <td>NaN</td>\n",
       "    </tr>\n",
       "    <tr>\n",
       "      <th>2</th>\n",
       "      <td>3</td>\n",
       "      <td>NaN</td>\n",
       "      <td>Device</td>\n",
       "      <td>NaN</td>\n",
       "    </tr>\n",
       "    <tr>\n",
       "      <th>3</th>\n",
       "      <td>4</td>\n",
       "      <td>2025-03-29T00:00:08</td>\n",
       "      <td>EGV</td>\n",
       "      <td>105.0</td>\n",
       "    </tr>\n",
       "    <tr>\n",
       "      <th>4</th>\n",
       "      <td>5</td>\n",
       "      <td>2025-03-29T00:05:08</td>\n",
       "      <td>EGV</td>\n",
       "      <td>109.0</td>\n",
       "    </tr>\n",
       "  </tbody>\n",
       "</table>\n",
       "</div>"
      ],
      "text/plain": [
       "   Index Timestamp (YYYY-MM-DDThh:mm:ss) Event Type  Glucose Value (mg/dL)\n",
       "0      1                             NaN  FirstName                    NaN\n",
       "1      2                             NaN   LastName                    NaN\n",
       "2      3                             NaN     Device                    NaN\n",
       "3      4             2025-03-29T00:00:08        EGV                  105.0\n",
       "4      5             2025-03-29T00:05:08        EGV                  109.0"
      ]
     },
     "execution_count": 11,
     "metadata": {},
     "output_type": "execute_result"
    }
   ],
   "source": [
    "# Display the first 5 rows of the dataframe (df0)\n",
    "df0.head()"
   ]
  },
  {
   "cell_type": "code",
   "execution_count": 12,
   "metadata": {},
   "outputs": [
    {
     "name": "stdout",
     "output_type": "stream",
     "text": [
      "<class 'pandas.core.frame.DataFrame'>\n",
      "RangeIndex: 286 entries, 0 to 285\n",
      "Data columns (total 4 columns):\n",
      " #   Column                           Non-Null Count  Dtype  \n",
      "---  ------                           --------------  -----  \n",
      " 0   Index                            286 non-null    int64  \n",
      " 1   Timestamp (YYYY-MM-DDThh:mm:ss)  283 non-null    object \n",
      " 2   Event Type                       286 non-null    object \n",
      " 3   Glucose Value (mg/dL)            283 non-null    float64\n",
      "dtypes: float64(1), int64(1), object(2)\n",
      "memory usage: 9.1+ KB\n"
     ]
    }
   ],
   "source": [
    "# Display basic information about the data \n",
    "df0.info()"
   ]
  },
  {
   "cell_type": "code",
   "execution_count": 13,
   "metadata": {},
   "outputs": [],
   "source": [
    "# Keep only the rows where Event Type is EGV (estimated glucose value)\n",
    "df0 = df0[df0['Event Type'] == 'EGV']"
   ]
  },
  {
   "cell_type": "code",
   "execution_count": 14,
   "metadata": {},
   "outputs": [],
   "source": [
    "# Rename Glucose Value (mg/dL) to Value\n",
    "df0 = df0.rename(columns={'Glucose Value (mg/dL)': 'Value'})"
   ]
  },
  {
   "cell_type": "code",
   "execution_count": 15,
   "metadata": {},
   "outputs": [],
   "source": [
    "# Replace Value with 40 where it is 'Low'\n",
    "df0['Value'] = df0['Value'].replace('Low', 40)\n",
    "\n",
    "# Replace Value with 400 where it is 'High'\n",
    "df0['Value'] = df0['Value'].replace('High', 400)"
   ]
  },
  {
   "cell_type": "code",
   "execution_count": 16,
   "metadata": {},
   "outputs": [],
   "source": [
    "# Convert Value to integer\n",
    "df0['Value'] = df0['Value'].astype(int)"
   ]
  },
  {
   "cell_type": "code",
   "execution_count": 17,
   "metadata": {},
   "outputs": [],
   "source": [
    "# Rename and format Timestamp column\n",
    "df0['DateTime'] = pd.to_datetime(df0.pop('Timestamp (YYYY-MM-DDThh:mm:ss)'), format='%Y-%m-%dT%H:%M:%S')"
   ]
  },
  {
   "cell_type": "code",
   "execution_count": 18,
   "metadata": {},
   "outputs": [],
   "source": [
    "# Delete the Index column\n",
    "df0 = df0.drop(['Index'], axis=1)"
   ]
  },
  {
   "cell_type": "code",
   "execution_count": 19,
   "metadata": {},
   "outputs": [],
   "source": [
    "# Create a Date column from the DateTime column\n",
    "df0['Date'] = df0['DateTime'].dt.date"
   ]
  },
  {
   "cell_type": "code",
   "execution_count": 20,
   "metadata": {},
   "outputs": [],
   "source": [
    "# Create a Time column from the DateTime column\n",
    "df0['Time'] = df0['DateTime'].dt.time"
   ]
  },
  {
   "cell_type": "code",
   "execution_count": null,
   "metadata": {},
   "outputs": [],
   "source": [
    "# Create a column for Treatment\n",
    "df0['Date'] = pd.to_datetime(df0['Date']) # Convert Date from text to datetime format\n",
    "\n",
    "#Set the conditions and choices\n",
    "conditions = [\n",
    "    (df0['Date'] > '2025-02-25'),\n",
    "    (df0['Date'] > '2024-06-18'),\n",
    "    (df0['Date'] > '2024-01-30'),\n",
    "    (df0['Date'] > '2023-07-18'),\n",
    "    (df0['Date'] > '2023-02-28'),\n",
    "    (df0['Date'] > '2023-01-31')\n",
    "]\n",
    "\n",
    "choices = [\n",
    "    'Mounjaro 15',\n",
    "    'Mounjaro 12.5',\n",
    "    'Mounjaro 10',\n",
    "    'Mounjaro 7.5',\n",
    "    'Mounjaro 5',\n",
    "    'Mounjaro 2.5'\n",
    "]\n",
    "\n",
    "df0['Treatment'] = np.select(conditions, choices, default='Untreated')"
   ]
  },
  {
   "cell_type": "code",
   "execution_count": 22,
   "metadata": {},
   "outputs": [],
   "source": [
    "# Format Time as AM/PM\n",
    "df0['Time'] = df0['Time'].apply(lambda x: x.strftime('%I:%M %p'))"
   ]
  },
  {
   "cell_type": "code",
   "execution_count": 23,
   "metadata": {},
   "outputs": [],
   "source": [
    "# Make Sure Date is only the date, not date and time\n",
    "df0['Date'] = df0['Date'].dt.date"
   ]
  },
  {
   "cell_type": "code",
   "execution_count": 24,
   "metadata": {},
   "outputs": [],
   "source": [
    "# Drop rows where Date is current date\n",
    "today = datetime.today().date()\n",
    "df0 = df0[df0['Date'] < today]"
   ]
  },
  {
   "cell_type": "code",
   "execution_count": 25,
   "metadata": {},
   "outputs": [],
   "source": [
    "# Reorder the columns\n",
    "df0 = df0[['Date', 'Time', 'DateTime', 'Value', 'Treatment']]"
   ]
  },
  {
   "cell_type": "code",
   "execution_count": 26,
   "metadata": {},
   "outputs": [],
   "source": [
    "# Add a column for Source\n",
    "df0['Source'] = 'CGM'"
   ]
  },
  {
   "cell_type": "code",
   "execution_count": 27,
   "metadata": {},
   "outputs": [
    {
     "name": "stdout",
     "output_type": "stream",
     "text": [
      "New Data\n",
      "Min Date: 2025-03-29\n",
      "Max Date: 2025-03-29\n",
      "Days in Dataset: 1\n"
     ]
    }
   ],
   "source": [
    "# Find the min and max dates in the dataset\n",
    "min_date0 = df0['Date'].min()\n",
    "max_date0 = df0['Date'].max()\n",
    "\n",
    "# Count the number of unique days in the dataset\n",
    "unique_days = df0['Date'].nunique()\n",
    "\n",
    "# Display the results\n",
    "print(\"New Data\")\n",
    "print(\"Min Date:\", min_date0)\n",
    "print(\"Max Date:\", max_date0)\n",
    "print(f\"Days in Dataset: {unique_days}\")\n",
    "\n",
    "# Count the number of unique days in the dataset\n",
    "unique_days = df0['Date'].nunique()"
   ]
  },
  {
   "cell_type": "code",
   "execution_count": 28,
   "metadata": {},
   "outputs": [
    {
     "data": {
      "text/html": [
       "<div>\n",
       "<style scoped>\n",
       "    .dataframe tbody tr th:only-of-type {\n",
       "        vertical-align: middle;\n",
       "    }\n",
       "\n",
       "    .dataframe tbody tr th {\n",
       "        vertical-align: top;\n",
       "    }\n",
       "\n",
       "    .dataframe thead th {\n",
       "        text-align: right;\n",
       "    }\n",
       "</style>\n",
       "<table border=\"1\" class=\"dataframe\">\n",
       "  <thead>\n",
       "    <tr style=\"text-align: right;\">\n",
       "      <th></th>\n",
       "      <th>Date</th>\n",
       "      <th>Time</th>\n",
       "      <th>DateTime</th>\n",
       "      <th>Value</th>\n",
       "      <th>Treatment</th>\n",
       "      <th>Source</th>\n",
       "    </tr>\n",
       "  </thead>\n",
       "  <tbody>\n",
       "    <tr>\n",
       "      <th>3</th>\n",
       "      <td>2025-03-29</td>\n",
       "      <td>12:00 AM</td>\n",
       "      <td>2025-03-29 00:00:08</td>\n",
       "      <td>105</td>\n",
       "      <td>Mounjaro 15</td>\n",
       "      <td>CGM</td>\n",
       "    </tr>\n",
       "    <tr>\n",
       "      <th>4</th>\n",
       "      <td>2025-03-29</td>\n",
       "      <td>12:05 AM</td>\n",
       "      <td>2025-03-29 00:05:08</td>\n",
       "      <td>109</td>\n",
       "      <td>Mounjaro 15</td>\n",
       "      <td>CGM</td>\n",
       "    </tr>\n",
       "    <tr>\n",
       "      <th>5</th>\n",
       "      <td>2025-03-29</td>\n",
       "      <td>12:10 AM</td>\n",
       "      <td>2025-03-29 00:10:07</td>\n",
       "      <td>107</td>\n",
       "      <td>Mounjaro 15</td>\n",
       "      <td>CGM</td>\n",
       "    </tr>\n",
       "    <tr>\n",
       "      <th>6</th>\n",
       "      <td>2025-03-29</td>\n",
       "      <td>12:15 AM</td>\n",
       "      <td>2025-03-29 00:15:07</td>\n",
       "      <td>108</td>\n",
       "      <td>Mounjaro 15</td>\n",
       "      <td>CGM</td>\n",
       "    </tr>\n",
       "    <tr>\n",
       "      <th>7</th>\n",
       "      <td>2025-03-29</td>\n",
       "      <td>12:20 AM</td>\n",
       "      <td>2025-03-29 00:20:07</td>\n",
       "      <td>109</td>\n",
       "      <td>Mounjaro 15</td>\n",
       "      <td>CGM</td>\n",
       "    </tr>\n",
       "  </tbody>\n",
       "</table>\n",
       "</div>"
      ],
      "text/plain": [
       "         Date      Time            DateTime  Value    Treatment Source\n",
       "3  2025-03-29  12:00 AM 2025-03-29 00:00:08    105  Mounjaro 15    CGM\n",
       "4  2025-03-29  12:05 AM 2025-03-29 00:05:08    109  Mounjaro 15    CGM\n",
       "5  2025-03-29  12:10 AM 2025-03-29 00:10:07    107  Mounjaro 15    CGM\n",
       "6  2025-03-29  12:15 AM 2025-03-29 00:15:07    108  Mounjaro 15    CGM\n",
       "7  2025-03-29  12:20 AM 2025-03-29 00:20:07    109  Mounjaro 15    CGM"
      ]
     },
     "execution_count": 28,
     "metadata": {},
     "output_type": "execute_result"
    }
   ],
   "source": [
    "# Display the first 5 rows of the dataframe (df0)\n",
    "df0.head()"
   ]
  },
  {
   "cell_type": "code",
   "execution_count": 29,
   "metadata": {},
   "outputs": [
    {
     "name": "stdout",
     "output_type": "stream",
     "text": [
      "<class 'pandas.core.frame.DataFrame'>\n",
      "Index: 283 entries, 3 to 285\n",
      "Data columns (total 6 columns):\n",
      " #   Column     Non-Null Count  Dtype         \n",
      "---  ------     --------------  -----         \n",
      " 0   Date       283 non-null    object        \n",
      " 1   Time       283 non-null    object        \n",
      " 2   DateTime   283 non-null    datetime64[ns]\n",
      " 3   Value      283 non-null    int64         \n",
      " 4   Treatment  283 non-null    object        \n",
      " 5   Source     283 non-null    object        \n",
      "dtypes: datetime64[ns](1), int64(1), object(4)\n",
      "memory usage: 15.5+ KB\n"
     ]
    }
   ],
   "source": [
    "# Display basic information about the data \n",
    "df0.info()"
   ]
  },
  {
   "cell_type": "code",
   "execution_count": 30,
   "metadata": {},
   "outputs": [
    {
     "data": {
      "text/html": [
       "<div>\n",
       "<style scoped>\n",
       "    .dataframe tbody tr th:only-of-type {\n",
       "        vertical-align: middle;\n",
       "    }\n",
       "\n",
       "    .dataframe tbody tr th {\n",
       "        vertical-align: top;\n",
       "    }\n",
       "\n",
       "    .dataframe thead th {\n",
       "        text-align: right;\n",
       "    }\n",
       "</style>\n",
       "<table border=\"1\" class=\"dataframe\">\n",
       "  <thead>\n",
       "    <tr style=\"text-align: right;\">\n",
       "      <th></th>\n",
       "      <th>DateTime</th>\n",
       "      <th>Value</th>\n",
       "    </tr>\n",
       "  </thead>\n",
       "  <tbody>\n",
       "    <tr>\n",
       "      <th>count</th>\n",
       "      <td>283</td>\n",
       "      <td>283.000000</td>\n",
       "    </tr>\n",
       "    <tr>\n",
       "      <th>mean</th>\n",
       "      <td>2025-03-29 11:47:43.077738496</td>\n",
       "      <td>126.038869</td>\n",
       "    </tr>\n",
       "    <tr>\n",
       "      <th>min</th>\n",
       "      <td>2025-03-29 00:00:08</td>\n",
       "      <td>77.000000</td>\n",
       "    </tr>\n",
       "    <tr>\n",
       "      <th>25%</th>\n",
       "      <td>2025-03-29 05:52:38</td>\n",
       "      <td>109.000000</td>\n",
       "    </tr>\n",
       "    <tr>\n",
       "      <th>50%</th>\n",
       "      <td>2025-03-29 11:45:10</td>\n",
       "      <td>114.000000</td>\n",
       "    </tr>\n",
       "    <tr>\n",
       "      <th>75%</th>\n",
       "      <td>2025-03-29 17:37:41</td>\n",
       "      <td>134.500000</td>\n",
       "    </tr>\n",
       "    <tr>\n",
       "      <th>max</th>\n",
       "      <td>2025-03-29 23:55:12</td>\n",
       "      <td>240.000000</td>\n",
       "    </tr>\n",
       "    <tr>\n",
       "      <th>std</th>\n",
       "      <td>NaN</td>\n",
       "      <td>30.356661</td>\n",
       "    </tr>\n",
       "  </tbody>\n",
       "</table>\n",
       "</div>"
      ],
      "text/plain": [
       "                            DateTime       Value\n",
       "count                            283  283.000000\n",
       "mean   2025-03-29 11:47:43.077738496  126.038869\n",
       "min              2025-03-29 00:00:08   77.000000\n",
       "25%              2025-03-29 05:52:38  109.000000\n",
       "50%              2025-03-29 11:45:10  114.000000\n",
       "75%              2025-03-29 17:37:41  134.500000\n",
       "max              2025-03-29 23:55:12  240.000000\n",
       "std                              NaN   30.356661"
      ]
     },
     "execution_count": 30,
     "metadata": {},
     "output_type": "execute_result"
    }
   ],
   "source": [
    "# Display basic statistics about the data\n",
    "df0.describe()"
   ]
  },
  {
   "cell_type": "code",
   "execution_count": 31,
   "metadata": {},
   "outputs": [],
   "source": [
    "# Reindex df0\n",
    "df0 = df0.reset_index(drop=True)"
   ]
  },
  {
   "cell_type": "code",
   "execution_count": 32,
   "metadata": {},
   "outputs": [
    {
     "data": {
      "text/plain": [
       "283"
      ]
     },
     "execution_count": 32,
     "metadata": {},
     "output_type": "execute_result"
    }
   ],
   "source": [
    "# Add the new data to the existing CLARITY_DATA table\n",
    "df0.to_sql('CLARITY_DATA', con=sqlite3.connect('ClarityHistory.db'), if_exists='append', index=False)"
   ]
  },
  {
   "cell_type": "code",
   "execution_count": 33,
   "metadata": {},
   "outputs": [
    {
     "data": {
      "text/html": [
       "<span style=\"None\">Running query in &#x27;sqlite:///ClarityHistory.db&#x27;</span>"
      ],
      "text/plain": [
       "Running query in 'sqlite:///ClarityHistory.db'"
      ]
     },
     "metadata": {},
     "output_type": "display_data"
    },
    {
     "data": {
      "text/html": [
       "<table>\n",
       "    <thead>\n",
       "        <tr>\n",
       "            <th>total_duplicates</th>\n",
       "        </tr>\n",
       "    </thead>\n",
       "    <tbody>\n",
       "        <tr>\n",
       "            <td>None</td>\n",
       "        </tr>\n",
       "    </tbody>\n",
       "</table>"
      ],
      "text/plain": [
       "+------------------+\n",
       "| total_duplicates |\n",
       "+------------------+\n",
       "|       None       |\n",
       "+------------------+"
      ]
     },
     "execution_count": 33,
     "metadata": {},
     "output_type": "execute_result"
    }
   ],
   "source": [
    "%%sql\n",
    "-- Find the total count of duplicate rows in the CLARITY_DATA table\n",
    "SELECT SUM(duplicate_count - 1) AS total_duplicates\n",
    "FROM (\n",
    "    SELECT COUNT(*) AS duplicate_count\n",
    "    FROM CLARITY_DATA\n",
    "    GROUP BY Date, Time, DateTime, Value, Treatment, Source\n",
    "    HAVING COUNT(*) > 1\n",
    ") as duplicates;"
   ]
  },
  {
   "cell_type": "code",
   "execution_count": 34,
   "metadata": {},
   "outputs": [
    {
     "data": {
      "text/html": [
       "<span style=\"None\">Running query in &#x27;sqlite:///ClarityHistory.db&#x27;</span>"
      ],
      "text/plain": [
       "Running query in 'sqlite:///ClarityHistory.db'"
      ]
     },
     "metadata": {},
     "output_type": "display_data"
    },
    {
     "data": {
      "text/html": [
       "<table>\n",
       "    <thead>\n",
       "        <tr>\n",
       "        </tr>\n",
       "    </thead>\n",
       "    <tbody>\n",
       "    </tbody>\n",
       "</table>"
      ],
      "text/plain": [
       "++\n",
       "||\n",
       "++\n",
       "++"
      ]
     },
     "execution_count": 34,
     "metadata": {},
     "output_type": "execute_result"
    }
   ],
   "source": [
    "%%sql\n",
    "-- Delete duplicate rows in the CLARITY_DATA table\n",
    "DELETE FROM CLARITY_DATA\n",
    "WHERE rowid NOT IN (\n",
    "    SELECT MIN(rowid)\n",
    "    FROM CLARITY_DATA\n",
    "    GROUP BY Date, Time, DateTime, Value, Treatment, Source\n",
    ");"
   ]
  },
  {
   "cell_type": "code",
   "execution_count": 35,
   "metadata": {},
   "outputs": [
    {
     "data": {
      "text/html": [
       "<span style=\"None\">Running query in &#x27;sqlite:///ClarityHistory.db&#x27;</span>"
      ],
      "text/plain": [
       "Running query in 'sqlite:///ClarityHistory.db'"
      ]
     },
     "metadata": {},
     "output_type": "display_data"
    },
    {
     "data": {
      "text/html": [
       "<table>\n",
       "    <thead>\n",
       "        <tr>\n",
       "            <th>Date</th>\n",
       "        </tr>\n",
       "    </thead>\n",
       "    <tbody>\n",
       "    </tbody>\n",
       "</table>"
      ],
      "text/plain": [
       "+------+\n",
       "| Date |\n",
       "+------+\n",
       "+------+"
      ]
     },
     "execution_count": 35,
     "metadata": {},
     "output_type": "execute_result"
    }
   ],
   "source": [
    "%%sql\n",
    "-- Find missing dates in CLARITY_DATA\n",
    "WITH DateRange AS (\n",
    "    -- Generate a range of consecutive dates between the minimum and maximum dates in the dataset\n",
    "    SELECT date(min(Date)) as StartDate, date(max(Date)) as EndDate\n",
    "    FROM CLARITY_DATA\n",
    "),\n",
    "AllDates AS (\n",
    "    -- Recursive query to generate all dates between StartDate and EndDate\n",
    "    SELECT StartDate as Date\n",
    "    FROM DateRange\n",
    "    UNION ALL\n",
    "    SELECT date(Date, '+1 day')\n",
    "    FROM AllDates, DateRange\n",
    "    WHERE Date < EndDate\n",
    ")\n",
    "-- Find dates in the generated date range that do not exist in your table\n",
    "SELECT Date\n",
    "FROM AllDates\n",
    "WHERE Date NOT IN (SELECT DISTINCT Date FROM CLARITY_DATA);"
   ]
  },
  {
   "cell_type": "code",
   "execution_count": 36,
   "metadata": {},
   "outputs": [
    {
     "data": {
      "text/html": [
       "<span style=\"None\">Running query in &#x27;sqlite:///ClarityHistory.db&#x27;</span>"
      ],
      "text/plain": [
       "Running query in 'sqlite:///ClarityHistory.db'"
      ]
     },
     "metadata": {},
     "output_type": "display_data"
    },
    {
     "data": {
      "text/html": [
       "<span style=\"color: green\">286 rows affected.</span>"
      ],
      "text/plain": [
       "286 rows affected."
      ]
     },
     "metadata": {},
     "output_type": "display_data"
    },
    {
     "data": {
      "text/html": [
       "<table>\n",
       "    <thead>\n",
       "        <tr>\n",
       "        </tr>\n",
       "    </thead>\n",
       "    <tbody>\n",
       "    </tbody>\n",
       "</table>"
      ],
      "text/plain": [
       "++\n",
       "||\n",
       "++\n",
       "++"
      ]
     },
     "execution_count": 36,
     "metadata": {},
     "output_type": "execute_result"
    }
   ],
   "source": [
    "%%sql\n",
    "-- Delete rows in CLARITY_DATA that are older than 90 days\n",
    "DELETE FROM CLARITY_DATA\n",
    "WHERE Date < (SELECT date(MAX(Date), '-89 day') FROM CLARITY_DATA);"
   ]
  },
  {
   "cell_type": "code",
   "execution_count": 37,
   "metadata": {},
   "outputs": [
    {
     "data": {
      "text/html": [
       "<span style=\"None\">Running query in &#x27;sqlite:///ClarityHistory.db&#x27;</span>"
      ],
      "text/plain": [
       "Running query in 'sqlite:///ClarityHistory.db'"
      ]
     },
     "metadata": {},
     "output_type": "display_data"
    }
   ],
   "source": [
    "# Retrieve all data from the CLARITY_DATA table\n",
    "df = %sql SELECT * FROM CLARITY_DATA\n",
    "\n",
    "# Convert the ResultSet to a DataFrame\n",
    "df1 = df.DataFrame()"
   ]
  },
  {
   "cell_type": "code",
   "execution_count": 38,
   "metadata": {},
   "outputs": [
    {
     "data": {
      "text/html": [
       "<div>\n",
       "<style scoped>\n",
       "    .dataframe tbody tr th:only-of-type {\n",
       "        vertical-align: middle;\n",
       "    }\n",
       "\n",
       "    .dataframe tbody tr th {\n",
       "        vertical-align: top;\n",
       "    }\n",
       "\n",
       "    .dataframe thead th {\n",
       "        text-align: right;\n",
       "    }\n",
       "</style>\n",
       "<table border=\"1\" class=\"dataframe\">\n",
       "  <thead>\n",
       "    <tr style=\"text-align: right;\">\n",
       "      <th></th>\n",
       "      <th>Date</th>\n",
       "      <th>Time</th>\n",
       "      <th>DateTime</th>\n",
       "      <th>Value</th>\n",
       "      <th>Treatment</th>\n",
       "      <th>Source</th>\n",
       "    </tr>\n",
       "  </thead>\n",
       "  <tbody>\n",
       "    <tr>\n",
       "      <th>0</th>\n",
       "      <td>2024-12-30</td>\n",
       "      <td>12:04 AM</td>\n",
       "      <td>2024-12-30 00:04:20</td>\n",
       "      <td>96</td>\n",
       "      <td>Mounjaro 12.5</td>\n",
       "      <td>CGM</td>\n",
       "    </tr>\n",
       "    <tr>\n",
       "      <th>1</th>\n",
       "      <td>2024-12-30</td>\n",
       "      <td>12:09 AM</td>\n",
       "      <td>2024-12-30 00:09:20</td>\n",
       "      <td>97</td>\n",
       "      <td>Mounjaro 12.5</td>\n",
       "      <td>CGM</td>\n",
       "    </tr>\n",
       "    <tr>\n",
       "      <th>2</th>\n",
       "      <td>2024-12-30</td>\n",
       "      <td>12:14 AM</td>\n",
       "      <td>2024-12-30 00:14:20</td>\n",
       "      <td>98</td>\n",
       "      <td>Mounjaro 12.5</td>\n",
       "      <td>CGM</td>\n",
       "    </tr>\n",
       "    <tr>\n",
       "      <th>3</th>\n",
       "      <td>2024-12-30</td>\n",
       "      <td>12:19 AM</td>\n",
       "      <td>2024-12-30 00:19:20</td>\n",
       "      <td>97</td>\n",
       "      <td>Mounjaro 12.5</td>\n",
       "      <td>CGM</td>\n",
       "    </tr>\n",
       "    <tr>\n",
       "      <th>4</th>\n",
       "      <td>2024-12-30</td>\n",
       "      <td>12:24 AM</td>\n",
       "      <td>2024-12-30 00:24:20</td>\n",
       "      <td>96</td>\n",
       "      <td>Mounjaro 12.5</td>\n",
       "      <td>CGM</td>\n",
       "    </tr>\n",
       "  </tbody>\n",
       "</table>\n",
       "</div>"
      ],
      "text/plain": [
       "         Date      Time             DateTime  Value      Treatment Source\n",
       "0  2024-12-30  12:04 AM  2024-12-30 00:04:20     96  Mounjaro 12.5    CGM\n",
       "1  2024-12-30  12:09 AM  2024-12-30 00:09:20     97  Mounjaro 12.5    CGM\n",
       "2  2024-12-30  12:14 AM  2024-12-30 00:14:20     98  Mounjaro 12.5    CGM\n",
       "3  2024-12-30  12:19 AM  2024-12-30 00:19:20     97  Mounjaro 12.5    CGM\n",
       "4  2024-12-30  12:24 AM  2024-12-30 00:24:20     96  Mounjaro 12.5    CGM"
      ]
     },
     "execution_count": 38,
     "metadata": {},
     "output_type": "execute_result"
    }
   ],
   "source": [
    "# Display the first 5 rows of the dataframe (df1)\n",
    "df1.head()"
   ]
  },
  {
   "cell_type": "code",
   "execution_count": 39,
   "metadata": {},
   "outputs": [
    {
     "name": "stdout",
     "output_type": "stream",
     "text": [
      "<class 'pandas.core.frame.DataFrame'>\n",
      "RangeIndex: 25699 entries, 0 to 25698\n",
      "Data columns (total 6 columns):\n",
      " #   Column     Non-Null Count  Dtype \n",
      "---  ------     --------------  ----- \n",
      " 0   Date       25699 non-null  object\n",
      " 1   Time       25699 non-null  object\n",
      " 2   DateTime   25699 non-null  object\n",
      " 3   Value      25699 non-null  int64 \n",
      " 4   Treatment  25699 non-null  object\n",
      " 5   Source     25699 non-null  object\n",
      "dtypes: int64(1), object(5)\n",
      "memory usage: 1.2+ MB\n"
     ]
    }
   ],
   "source": [
    "# Display basic information about the data\n",
    "df1.info()"
   ]
  },
  {
   "cell_type": "code",
   "execution_count": 40,
   "metadata": {},
   "outputs": [
    {
     "name": "stdout",
     "output_type": "stream",
     "text": [
      "Combined Data\n",
      "Min Date: 2024-12-30\n",
      "Max Date: 2025-03-29\n",
      "No missing dates, all dates are consecutive.\n"
     ]
    }
   ],
   "source": [
    "# Get the min and max dates\n",
    "min_date = df1['Date'].min()\n",
    "max_date = df1['Date'].max()\n",
    "\n",
    "print (\"Combined Data\")\n",
    "print(\"Min Date:\", min_date)\n",
    "print(\"Max Date:\", max_date)\n",
    "\n",
    "# Create a complete date range from min to max date\n",
    "complete_date_range = pd.date_range(start=min_date, end=max_date, freq='D')\n",
    "\n",
    "# Get the unique dates from your dataset\n",
    "unique_dates = pd.to_datetime(df1['Date']).sort_values().unique()\n",
    "\n",
    "# Check for missing dates using numpy set difference\n",
    "missing_dates = np.setdiff1d(complete_date_range, unique_dates)\n",
    "\n",
    "# Display missing dates, if any\n",
    "if len(missing_dates) > 0:\n",
    "    print(\"Missing dates:\")\n",
    "    print(missing_dates)\n",
    "else:\n",
    "    print(\"No missing dates, all dates are consecutive.\")"
   ]
  },
  {
   "cell_type": "code",
   "execution_count": 41,
   "metadata": {},
   "outputs": [
    {
     "name": "stdout",
     "output_type": "stream",
     "text": [
      "Days in Dataset: 90\n",
      "Days With at Least 144 Readings: 90\n"
     ]
    }
   ],
   "source": [
    "# Count the number of unique days in the dataset\n",
    "unique_days1 = df1['Date'].nunique()\n",
    "\n",
    "# Count the number of unique days in the dataset that have at least 144 readings\n",
    "days_with_144_readings = df1['Date'].value_counts().ge(144).sum()\n",
    "\n",
    "# Display the results\n",
    "print(f\"Days in Dataset: {unique_days1}\")\n",
    "print(f\"Days With at Least 144 Readings: {days_with_144_readings}\")"
   ]
  },
  {
   "cell_type": "code",
   "execution_count": 42,
   "metadata": {},
   "outputs": [
    {
     "name": "stdout",
     "output_type": "stream",
     "text": [
      "Days with Fewer Than 144 Readings: 0\n"
     ]
    }
   ],
   "source": [
    "# Get a count of readings per day\n",
    "readings_per_day = df1['Date'].value_counts()\n",
    "\n",
    "# Identify the days with fewer than 144 readings\n",
    "days_below_144_readings = readings_per_day[readings_per_day < 144]\n",
    "\n",
    "# Sort the days by date in ascending order\n",
    "days_below_144_readings = days_below_144_readings.sort_index()\n",
    "\n",
    "# Format the output\n",
    "num_days_below_144 = len(days_below_144_readings)\n",
    "formatted_output = days_below_144_readings.reset_index()\n",
    "\n",
    "# Display the results\n",
    "print(f\"Days with Fewer Than 144 Readings: {num_days_below_144}\")\n",
    "for date, count in formatted_output.values:\n",
    "    print(f\"{date}: {count}\")"
   ]
  },
  {
   "cell_type": "code",
   "execution_count": 43,
   "metadata": {},
   "outputs": [
    {
     "name": "stdout",
     "output_type": "stream",
     "text": [
      "<class 'pandas.core.frame.DataFrame'>\n",
      "RangeIndex: 25699 entries, 0 to 25698\n",
      "Data columns (total 6 columns):\n",
      " #   Column     Non-Null Count  Dtype \n",
      "---  ------     --------------  ----- \n",
      " 0   Date       25699 non-null  object\n",
      " 1   Time       25699 non-null  object\n",
      " 2   DateTime   25699 non-null  object\n",
      " 3   Value      25699 non-null  int64 \n",
      " 4   Treatment  25699 non-null  object\n",
      " 5   Source     25699 non-null  object\n",
      "dtypes: int64(1), object(5)\n",
      "memory usage: 1.2+ MB\n"
     ]
    }
   ],
   "source": [
    "# Verify the changes\n",
    "df1.info()"
   ]
  },
  {
   "cell_type": "code",
   "execution_count": 44,
   "metadata": {},
   "outputs": [],
   "source": [
    "# Save df1 to a csv file\n",
    "df1.to_csv('Clarity Readings for Analysis.csv', index=False)"
   ]
  }
 ],
 "metadata": {
  "kernelspec": {
   "display_name": "Python 3",
   "language": "python",
   "name": "python3"
  },
  "language_info": {
   "codemirror_mode": {
    "name": "ipython",
    "version": 3
   },
   "file_extension": ".py",
   "mimetype": "text/x-python",
   "name": "python",
   "nbconvert_exporter": "python",
   "pygments_lexer": "ipython3",
   "version": "3.13.2"
  }
 },
 "nbformat": 4,
 "nbformat_minor": 2
}
