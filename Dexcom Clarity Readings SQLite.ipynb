{
 "cells": [
  {
   "cell_type": "markdown",
   "metadata": {},
   "source": [
    "# **Dexcom Clarity Readings - SQLite**"
   ]
  },
  {
   "cell_type": "markdown",
   "metadata": {},
   "source": [
    "This Python program automates the integration of new glucose readings from a CSV file into an SQLite database. It processes the downloaded data, verifies its integrity by checking for duplicates and consecutive date ranges, and appends the new entries to the existing dataset. The program ensures data consistency by retaining all historical readings in the SQL table, while exporting only the most recent 90 days of data to a CSV file for use in Tableau visualizations."
   ]
  },
  {
   "cell_type": "markdown",
   "metadata": {},
   "source": [
    "Run on Python 3.12 | No errors | No warnings"
   ]
  },
  {
   "cell_type": "code",
   "execution_count": 1,
   "metadata": {},
   "outputs": [],
   "source": [
    "# Import packages\n",
    "\n",
    "# For data manipulation\n",
    "import numpy as np\n",
    "import pandas as pd\n",
    "\n",
    "# for displaying and modifying the working directory\n",
    "import os as os\n",
    "\n",
    "# For working with datetime objects\n",
    "from datetime import datetime\n",
    "\n",
    "# For working with SQLite databases\n",
    "import sqlite3"
   ]
  },
  {
   "cell_type": "code",
   "execution_count": 3,
   "metadata": {},
   "outputs": [],
   "source": [
    "# Load the SQL magic extension\n",
    "%load_ext sql"
   ]
  },
  {
   "cell_type": "code",
   "execution_count": 4,
   "metadata": {},
   "outputs": [],
   "source": [
    "# Create connection to the SQLite database\n",
    "%sql sqlite:///ClarityHistory.db"
   ]
  },
  {
   "cell_type": "code",
   "execution_count": 5,
   "metadata": {},
   "outputs": [
    {
     "name": "stdout",
     "output_type": "stream",
     "text": [
      " * sqlite:///ClarityHistory.db\n",
      "Done.\n"
     ]
    },
    {
     "data": {
      "text/html": [
       "<table>\n",
       "    <thead>\n",
       "        <tr>\n",
       "            <th>COUNT(*)</th>\n",
       "        </tr>\n",
       "    </thead>\n",
       "    <tbody>\n",
       "        <tr>\n",
       "            <td>9230</td>\n",
       "        </tr>\n",
       "    </tbody>\n",
       "</table>"
      ],
      "text/plain": [
       "[(9230,)]"
      ]
     },
     "execution_count": 5,
     "metadata": {},
     "output_type": "execute_result"
    }
   ],
   "source": [
    "# Get the record count for CLARITY_DATA\n",
    "%sql SELECT COUNT(*) FROM CLARITY_DATA"
   ]
  },
  {
   "cell_type": "code",
   "execution_count": 6,
   "metadata": {},
   "outputs": [
    {
     "name": "stdout",
     "output_type": "stream",
     "text": [
      " * sqlite:///ClarityHistory.db\n",
      "Done.\n"
     ]
    },
    {
     "data": {
      "text/html": [
       "<table>\n",
       "    <thead>\n",
       "        <tr>\n",
       "            <th>Date</th>\n",
       "            <th>Time</th>\n",
       "            <th>DateTime</th>\n",
       "            <th>Value</th>\n",
       "            <th>Treatment</th>\n",
       "            <th>Source</th>\n",
       "        </tr>\n",
       "    </thead>\n",
       "    <tbody>\n",
       "        <tr>\n",
       "            <td>2024-08-29</td>\n",
       "            <td>04:53 PM</td>\n",
       "            <td>2024-08-29 16:53:35</td>\n",
       "            <td>100</td>\n",
       "            <td>Mounjaro 12.5</td>\n",
       "            <td>CGM</td>\n",
       "        </tr>\n",
       "        <tr>\n",
       "            <td>2024-08-29</td>\n",
       "            <td>04:58 PM</td>\n",
       "            <td>2024-08-29 16:58:35</td>\n",
       "            <td>112</td>\n",
       "            <td>Mounjaro 12.5</td>\n",
       "            <td>CGM</td>\n",
       "        </tr>\n",
       "        <tr>\n",
       "            <td>2024-08-29</td>\n",
       "            <td>05:03 PM</td>\n",
       "            <td>2024-08-29 17:03:36</td>\n",
       "            <td>93</td>\n",
       "            <td>Mounjaro 12.5</td>\n",
       "            <td>CGM</td>\n",
       "        </tr>\n",
       "        <tr>\n",
       "            <td>2024-08-29</td>\n",
       "            <td>05:08 PM</td>\n",
       "            <td>2024-08-29 17:08:35</td>\n",
       "            <td>83</td>\n",
       "            <td>Mounjaro 12.5</td>\n",
       "            <td>CGM</td>\n",
       "        </tr>\n",
       "        <tr>\n",
       "            <td>2024-08-29</td>\n",
       "            <td>05:13 PM</td>\n",
       "            <td>2024-08-29 17:13:36</td>\n",
       "            <td>78</td>\n",
       "            <td>Mounjaro 12.5</td>\n",
       "            <td>CGM</td>\n",
       "        </tr>\n",
       "    </tbody>\n",
       "</table>"
      ],
      "text/plain": [
       "[('2024-08-29', '04:53 PM', '2024-08-29 16:53:35', 100, 'Mounjaro 12.5', 'CGM'),\n",
       " ('2024-08-29', '04:58 PM', '2024-08-29 16:58:35', 112, 'Mounjaro 12.5', 'CGM'),\n",
       " ('2024-08-29', '05:03 PM', '2024-08-29 17:03:36', 93, 'Mounjaro 12.5', 'CGM'),\n",
       " ('2024-08-29', '05:08 PM', '2024-08-29 17:08:35', 83, 'Mounjaro 12.5', 'CGM'),\n",
       " ('2024-08-29', '05:13 PM', '2024-08-29 17:13:36', 78, 'Mounjaro 12.5', 'CGM')]"
      ]
     },
     "execution_count": 6,
     "metadata": {},
     "output_type": "execute_result"
    }
   ],
   "source": [
    "# Display the first 5 rows of the CLARITY_DATA table\n",
    "%sql SELECT * FROM CLARITY_DATA LIMIT 5"
   ]
  },
  {
   "cell_type": "code",
   "execution_count": 7,
   "metadata": {},
   "outputs": [
    {
     "name": "stdout",
     "output_type": "stream",
     "text": [
      " * sqlite:///ClarityHistory.db\n",
      "Done.\n"
     ]
    },
    {
     "data": {
      "text/html": [
       "<table>\n",
       "    <thead>\n",
       "        <tr>\n",
       "            <th>cid</th>\n",
       "            <th>name</th>\n",
       "            <th>type</th>\n",
       "            <th>notnull</th>\n",
       "            <th>dflt_value</th>\n",
       "            <th>pk</th>\n",
       "        </tr>\n",
       "    </thead>\n",
       "    <tbody>\n",
       "        <tr>\n",
       "            <td>0</td>\n",
       "            <td>Date</td>\n",
       "            <td>TEXT</td>\n",
       "            <td>0</td>\n",
       "            <td>None</td>\n",
       "            <td>0</td>\n",
       "        </tr>\n",
       "        <tr>\n",
       "            <td>1</td>\n",
       "            <td>Time</td>\n",
       "            <td>TEXT</td>\n",
       "            <td>0</td>\n",
       "            <td>None</td>\n",
       "            <td>0</td>\n",
       "        </tr>\n",
       "        <tr>\n",
       "            <td>2</td>\n",
       "            <td>DateTime</td>\n",
       "            <td>TEXT</td>\n",
       "            <td>0</td>\n",
       "            <td>None</td>\n",
       "            <td>0</td>\n",
       "        </tr>\n",
       "        <tr>\n",
       "            <td>3</td>\n",
       "            <td>Value</td>\n",
       "            <td>INTEGER</td>\n",
       "            <td>0</td>\n",
       "            <td>None</td>\n",
       "            <td>0</td>\n",
       "        </tr>\n",
       "        <tr>\n",
       "            <td>4</td>\n",
       "            <td>Treatment</td>\n",
       "            <td>TEXT</td>\n",
       "            <td>0</td>\n",
       "            <td>None</td>\n",
       "            <td>0</td>\n",
       "        </tr>\n",
       "        <tr>\n",
       "            <td>5</td>\n",
       "            <td>Source</td>\n",
       "            <td>TEXT</td>\n",
       "            <td>0</td>\n",
       "            <td>None</td>\n",
       "            <td>0</td>\n",
       "        </tr>\n",
       "    </tbody>\n",
       "</table>"
      ],
      "text/plain": [
       "[(0, 'Date', 'TEXT', 0, None, 0),\n",
       " (1, 'Time', 'TEXT', 0, None, 0),\n",
       " (2, 'DateTime', 'TEXT', 0, None, 0),\n",
       " (3, 'Value', 'INTEGER', 0, None, 0),\n",
       " (4, 'Treatment', 'TEXT', 0, None, 0),\n",
       " (5, 'Source', 'TEXT', 0, None, 0)]"
      ]
     },
     "execution_count": 7,
     "metadata": {},
     "output_type": "execute_result"
    }
   ],
   "source": [
    "# Display column names and data types for the CLARITY_DATA table\n",
    "%sql PRAGMA table_info(CLARITY_DATA)"
   ]
  },
  {
   "cell_type": "code",
   "execution_count": 8,
   "metadata": {},
   "outputs": [
    {
     "name": "stdout",
     "output_type": "stream",
     "text": [
      " * sqlite:///ClarityHistory.db\n",
      "Done.\n"
     ]
    },
    {
     "data": {
      "text/html": [
       "<table>\n",
       "    <thead>\n",
       "        <tr>\n",
       "            <th>Min_Date</th>\n",
       "            <th>Max_Date</th>\n",
       "        </tr>\n",
       "    </thead>\n",
       "    <tbody>\n",
       "        <tr>\n",
       "            <td>2024-08-29</td>\n",
       "            <td>2024-09-30</td>\n",
       "        </tr>\n",
       "    </tbody>\n",
       "</table>"
      ],
      "text/plain": [
       "[('2024-08-29', '2024-09-30')]"
      ]
     },
     "execution_count": 8,
     "metadata": {},
     "output_type": "execute_result"
    }
   ],
   "source": [
    "%%sql\n",
    "-- Display the first and last dates in the table\n",
    "SELECT MIN(DATE(Date)) AS Min_Date, MAX(DATE(Date)) AS Max_Date\n",
    "FROM CLARITY_DATA;"
   ]
  },
  {
   "cell_type": "code",
   "execution_count": 9,
   "metadata": {},
   "outputs": [],
   "source": [
    "# Load new data from Clarity\n",
    "df0 = pd.read_csv(\"Clarity_Export_Smith_Jeffrey.csv\", usecols=['Index', 'Timestamp (YYYY-MM-DDThh:mm:ss)', 'Event Type', 'Glucose Value (mg/dL)'])"
   ]
  },
  {
   "cell_type": "code",
   "execution_count": 10,
   "metadata": {},
   "outputs": [
    {
     "data": {
      "text/html": [
       "<div>\n",
       "<style scoped>\n",
       "    .dataframe tbody tr th:only-of-type {\n",
       "        vertical-align: middle;\n",
       "    }\n",
       "\n",
       "    .dataframe tbody tr th {\n",
       "        vertical-align: top;\n",
       "    }\n",
       "\n",
       "    .dataframe thead th {\n",
       "        text-align: right;\n",
       "    }\n",
       "</style>\n",
       "<table border=\"1\" class=\"dataframe\">\n",
       "  <thead>\n",
       "    <tr style=\"text-align: right;\">\n",
       "      <th></th>\n",
       "      <th>Index</th>\n",
       "      <th>Timestamp (YYYY-MM-DDThh:mm:ss)</th>\n",
       "      <th>Event Type</th>\n",
       "      <th>Glucose Value (mg/dL)</th>\n",
       "    </tr>\n",
       "  </thead>\n",
       "  <tbody>\n",
       "    <tr>\n",
       "      <th>0</th>\n",
       "      <td>1</td>\n",
       "      <td>NaN</td>\n",
       "      <td>FirstName</td>\n",
       "      <td>NaN</td>\n",
       "    </tr>\n",
       "    <tr>\n",
       "      <th>1</th>\n",
       "      <td>2</td>\n",
       "      <td>NaN</td>\n",
       "      <td>LastName</td>\n",
       "      <td>NaN</td>\n",
       "    </tr>\n",
       "    <tr>\n",
       "      <th>2</th>\n",
       "      <td>3</td>\n",
       "      <td>NaN</td>\n",
       "      <td>Device</td>\n",
       "      <td>NaN</td>\n",
       "    </tr>\n",
       "    <tr>\n",
       "      <th>3</th>\n",
       "      <td>4</td>\n",
       "      <td>2024-10-01T00:04:42</td>\n",
       "      <td>EGV</td>\n",
       "      <td>90.0</td>\n",
       "    </tr>\n",
       "    <tr>\n",
       "      <th>4</th>\n",
       "      <td>5</td>\n",
       "      <td>2024-10-01T00:09:42</td>\n",
       "      <td>EGV</td>\n",
       "      <td>90.0</td>\n",
       "    </tr>\n",
       "    <tr>\n",
       "      <th>5</th>\n",
       "      <td>6</td>\n",
       "      <td>2024-10-01T00:14:42</td>\n",
       "      <td>EGV</td>\n",
       "      <td>91.0</td>\n",
       "    </tr>\n",
       "    <tr>\n",
       "      <th>6</th>\n",
       "      <td>7</td>\n",
       "      <td>2024-10-01T00:19:42</td>\n",
       "      <td>EGV</td>\n",
       "      <td>89.0</td>\n",
       "    </tr>\n",
       "    <tr>\n",
       "      <th>7</th>\n",
       "      <td>8</td>\n",
       "      <td>2024-10-01T00:24:42</td>\n",
       "      <td>EGV</td>\n",
       "      <td>89.0</td>\n",
       "    </tr>\n",
       "    <tr>\n",
       "      <th>8</th>\n",
       "      <td>9</td>\n",
       "      <td>2024-10-01T00:29:42</td>\n",
       "      <td>EGV</td>\n",
       "      <td>90.0</td>\n",
       "    </tr>\n",
       "    <tr>\n",
       "      <th>9</th>\n",
       "      <td>10</td>\n",
       "      <td>2024-10-01T00:34:42</td>\n",
       "      <td>EGV</td>\n",
       "      <td>91.0</td>\n",
       "    </tr>\n",
       "  </tbody>\n",
       "</table>\n",
       "</div>"
      ],
      "text/plain": [
       "   Index Timestamp (YYYY-MM-DDThh:mm:ss) Event Type  Glucose Value (mg/dL)\n",
       "0      1                             NaN  FirstName                    NaN\n",
       "1      2                             NaN   LastName                    NaN\n",
       "2      3                             NaN     Device                    NaN\n",
       "3      4             2024-10-01T00:04:42        EGV                   90.0\n",
       "4      5             2024-10-01T00:09:42        EGV                   90.0\n",
       "5      6             2024-10-01T00:14:42        EGV                   91.0\n",
       "6      7             2024-10-01T00:19:42        EGV                   89.0\n",
       "7      8             2024-10-01T00:24:42        EGV                   89.0\n",
       "8      9             2024-10-01T00:29:42        EGV                   90.0\n",
       "9     10             2024-10-01T00:34:42        EGV                   91.0"
      ]
     },
     "execution_count": 10,
     "metadata": {},
     "output_type": "execute_result"
    }
   ],
   "source": [
    "# Display the first 10 rows of the dataframe (df0)\n",
    "df0.head(10)"
   ]
  },
  {
   "cell_type": "code",
   "execution_count": 11,
   "metadata": {},
   "outputs": [
    {
     "name": "stdout",
     "output_type": "stream",
     "text": [
      "<class 'pandas.core.frame.DataFrame'>\n",
      "RangeIndex: 291 entries, 0 to 290\n",
      "Data columns (total 4 columns):\n",
      " #   Column                           Non-Null Count  Dtype  \n",
      "---  ------                           --------------  -----  \n",
      " 0   Index                            291 non-null    int64  \n",
      " 1   Timestamp (YYYY-MM-DDThh:mm:ss)  288 non-null    object \n",
      " 2   Event Type                       291 non-null    object \n",
      " 3   Glucose Value (mg/dL)            288 non-null    float64\n",
      "dtypes: float64(1), int64(1), object(2)\n",
      "memory usage: 9.2+ KB\n"
     ]
    }
   ],
   "source": [
    "# Display basic information about the data \n",
    "df0.info()"
   ]
  },
  {
   "cell_type": "code",
   "execution_count": 12,
   "metadata": {},
   "outputs": [],
   "source": [
    "# Keep only the rows where Event Type is EGV (estimated glucose value)\n",
    "df0 = df0[df0['Event Type'] == 'EGV']"
   ]
  },
  {
   "cell_type": "code",
   "execution_count": 13,
   "metadata": {},
   "outputs": [],
   "source": [
    "# Replace Glucose Value (mg/dL) with 40 where it is 'Low'\n",
    "df0['Glucose Value (mg/dL)'] = df0['Glucose Value (mg/dL)'].replace('Low', 40)"
   ]
  },
  {
   "cell_type": "code",
   "execution_count": 14,
   "metadata": {},
   "outputs": [],
   "source": [
    "# Convert Glucose Value (mg/dL) to integer\n",
    "df0['Glucose Value (mg/dL)'] = df0['Glucose Value (mg/dL)'].astype(int)"
   ]
  },
  {
   "cell_type": "code",
   "execution_count": 15,
   "metadata": {},
   "outputs": [],
   "source": [
    "# Convert the column to datetime format\n",
    "df0['Timestamp'] = pd.to_datetime(df0['Timestamp (YYYY-MM-DDThh:mm:ss)'], format='%Y-%m-%dT%H:%M:%S')"
   ]
  },
  {
   "cell_type": "code",
   "execution_count": 16,
   "metadata": {},
   "outputs": [],
   "source": [
    "# Delete the Timestamp (YYYY-MM-DDThh:mm:ss) and Event Type columns\n",
    "df0 = df0.drop(['Timestamp (YYYY-MM-DDThh:mm:ss)', 'Event Type'], axis=1)"
   ]
  },
  {
   "cell_type": "code",
   "execution_count": 17,
   "metadata": {},
   "outputs": [],
   "source": [
    "# Delete the Index column\n",
    "df0 = df0.drop(['Index'], axis=1)"
   ]
  },
  {
   "cell_type": "code",
   "execution_count": 18,
   "metadata": {},
   "outputs": [],
   "source": [
    "# Rename Glucose Value (mg/dL) to Value CGM\n",
    "df0 = df0.rename(columns={'Glucose Value (mg/dL)': 'Value'})"
   ]
  },
  {
   "cell_type": "code",
   "execution_count": 19,
   "metadata": {},
   "outputs": [],
   "source": [
    "# Create a Date column from the Timestamp column using the date attribute\n",
    "df0['Date'] = df0['Timestamp'].dt.date"
   ]
  },
  {
   "cell_type": "code",
   "execution_count": 20,
   "metadata": {},
   "outputs": [],
   "source": [
    "# Create a column for Treatment\n",
    "df0['Date'] = pd.to_datetime(df0['Date'])\n",
    "\n",
    "conditions = [\n",
    "    (df0['Date'] > '2024-06-18'),\n",
    "    (df0['Date'] > '2024-01-30'),\n",
    "    (df0['Date'] > '2023-07-18'),\n",
    "    (df0['Date'] > '2023-02-28'),\n",
    "    (df0['Date'] > '2023-01-31')\n",
    "]\n",
    "\n",
    "choices = [\n",
    "    'Mounjaro 12.5',\n",
    "    'Mounjaro 10',\n",
    "    'Mounjaro 7.5',\n",
    "    'Mounjaro 5',\n",
    "    'Mounjaro 2.5'\n",
    "]\n",
    "\n",
    "df0['Treatment'] = np.select(conditions, choices, default='Untreated')"
   ]
  },
  {
   "cell_type": "code",
   "execution_count": 21,
   "metadata": {},
   "outputs": [],
   "source": [
    "# Creat a column named Time to extract the time from the Timestamp column\n",
    "df0['Time'] = df0['Timestamp'].dt.time"
   ]
  },
  {
   "cell_type": "code",
   "execution_count": 22,
   "metadata": {},
   "outputs": [],
   "source": [
    "# Rename Timestamp to DateTime\n",
    "df0 = df0.rename(columns={'Timestamp': 'DateTime'})"
   ]
  },
  {
   "cell_type": "code",
   "execution_count": 23,
   "metadata": {},
   "outputs": [],
   "source": [
    "# Format Time as AM/PM\n",
    "df0['Time'] = df0['Time'].apply(lambda x: x.strftime('%I:%M %p'))"
   ]
  },
  {
   "cell_type": "code",
   "execution_count": 24,
   "metadata": {},
   "outputs": [],
   "source": [
    "# Make Sure Date is only the date, not date and time\n",
    "df0['Date'] = df0['Date'].dt.date"
   ]
  },
  {
   "cell_type": "code",
   "execution_count": 25,
   "metadata": {},
   "outputs": [],
   "source": [
    "# Drop rows where Date is current date\n",
    "today = datetime.today().date()\n",
    "df0 = df0[df0['Date'] < today]"
   ]
  },
  {
   "cell_type": "code",
   "execution_count": 26,
   "metadata": {},
   "outputs": [],
   "source": [
    "# Reorder the columns\n",
    "df0 = df0[['Date', 'Time', 'DateTime', 'Value', 'Treatment']]"
   ]
  },
  {
   "cell_type": "code",
   "execution_count": 27,
   "metadata": {},
   "outputs": [],
   "source": [
    "# Add a column for Source\n",
    "df0['Source'] = 'CGM'"
   ]
  },
  {
   "cell_type": "code",
   "execution_count": 28,
   "metadata": {},
   "outputs": [
    {
     "name": "stdout",
     "output_type": "stream",
     "text": [
      "New Data\n",
      "Min Date: 2024-10-01\n",
      "Max Date: 2024-10-01\n"
     ]
    }
   ],
   "source": [
    "# Display the min and max dates\n",
    "min_date0 = df0['Date'].min()\n",
    "max_date0 = df0['Date'].max()\n",
    "\n",
    "print(\"New Data\")\n",
    "print(\"Min Date:\", min_date0)\n",
    "print(\"Max Date:\", max_date0)"
   ]
  },
  {
   "cell_type": "code",
   "execution_count": 29,
   "metadata": {},
   "outputs": [
    {
     "data": {
      "text/html": [
       "<div>\n",
       "<style scoped>\n",
       "    .dataframe tbody tr th:only-of-type {\n",
       "        vertical-align: middle;\n",
       "    }\n",
       "\n",
       "    .dataframe tbody tr th {\n",
       "        vertical-align: top;\n",
       "    }\n",
       "\n",
       "    .dataframe thead th {\n",
       "        text-align: right;\n",
       "    }\n",
       "</style>\n",
       "<table border=\"1\" class=\"dataframe\">\n",
       "  <thead>\n",
       "    <tr style=\"text-align: right;\">\n",
       "      <th></th>\n",
       "      <th>Date</th>\n",
       "      <th>Time</th>\n",
       "      <th>DateTime</th>\n",
       "      <th>Value</th>\n",
       "      <th>Treatment</th>\n",
       "      <th>Source</th>\n",
       "    </tr>\n",
       "  </thead>\n",
       "  <tbody>\n",
       "    <tr>\n",
       "      <th>3</th>\n",
       "      <td>2024-10-01</td>\n",
       "      <td>12:04 AM</td>\n",
       "      <td>2024-10-01 00:04:42</td>\n",
       "      <td>90</td>\n",
       "      <td>Mounjaro 12.5</td>\n",
       "      <td>CGM</td>\n",
       "    </tr>\n",
       "    <tr>\n",
       "      <th>4</th>\n",
       "      <td>2024-10-01</td>\n",
       "      <td>12:09 AM</td>\n",
       "      <td>2024-10-01 00:09:42</td>\n",
       "      <td>90</td>\n",
       "      <td>Mounjaro 12.5</td>\n",
       "      <td>CGM</td>\n",
       "    </tr>\n",
       "    <tr>\n",
       "      <th>5</th>\n",
       "      <td>2024-10-01</td>\n",
       "      <td>12:14 AM</td>\n",
       "      <td>2024-10-01 00:14:42</td>\n",
       "      <td>91</td>\n",
       "      <td>Mounjaro 12.5</td>\n",
       "      <td>CGM</td>\n",
       "    </tr>\n",
       "    <tr>\n",
       "      <th>6</th>\n",
       "      <td>2024-10-01</td>\n",
       "      <td>12:19 AM</td>\n",
       "      <td>2024-10-01 00:19:42</td>\n",
       "      <td>89</td>\n",
       "      <td>Mounjaro 12.5</td>\n",
       "      <td>CGM</td>\n",
       "    </tr>\n",
       "    <tr>\n",
       "      <th>7</th>\n",
       "      <td>2024-10-01</td>\n",
       "      <td>12:24 AM</td>\n",
       "      <td>2024-10-01 00:24:42</td>\n",
       "      <td>89</td>\n",
       "      <td>Mounjaro 12.5</td>\n",
       "      <td>CGM</td>\n",
       "    </tr>\n",
       "  </tbody>\n",
       "</table>\n",
       "</div>"
      ],
      "text/plain": [
       "         Date      Time            DateTime  Value      Treatment Source\n",
       "3  2024-10-01  12:04 AM 2024-10-01 00:04:42     90  Mounjaro 12.5    CGM\n",
       "4  2024-10-01  12:09 AM 2024-10-01 00:09:42     90  Mounjaro 12.5    CGM\n",
       "5  2024-10-01  12:14 AM 2024-10-01 00:14:42     91  Mounjaro 12.5    CGM\n",
       "6  2024-10-01  12:19 AM 2024-10-01 00:19:42     89  Mounjaro 12.5    CGM\n",
       "7  2024-10-01  12:24 AM 2024-10-01 00:24:42     89  Mounjaro 12.5    CGM"
      ]
     },
     "execution_count": 29,
     "metadata": {},
     "output_type": "execute_result"
    }
   ],
   "source": [
    "# Display the first 5 rows of the dataframe (df0)\n",
    "df0.head()"
   ]
  },
  {
   "cell_type": "code",
   "execution_count": 30,
   "metadata": {},
   "outputs": [
    {
     "name": "stdout",
     "output_type": "stream",
     "text": [
      "<class 'pandas.core.frame.DataFrame'>\n",
      "Index: 288 entries, 3 to 290\n",
      "Data columns (total 6 columns):\n",
      " #   Column     Non-Null Count  Dtype         \n",
      "---  ------     --------------  -----         \n",
      " 0   Date       288 non-null    object        \n",
      " 1   Time       288 non-null    object        \n",
      " 2   DateTime   288 non-null    datetime64[ns]\n",
      " 3   Value      288 non-null    int64         \n",
      " 4   Treatment  288 non-null    object        \n",
      " 5   Source     288 non-null    object        \n",
      "dtypes: datetime64[ns](1), int64(1), object(4)\n",
      "memory usage: 15.8+ KB\n"
     ]
    }
   ],
   "source": [
    "# Display basic information about the data \n",
    "df0.info()"
   ]
  },
  {
   "cell_type": "code",
   "execution_count": 31,
   "metadata": {},
   "outputs": [
    {
     "data": {
      "text/html": [
       "<div>\n",
       "<style scoped>\n",
       "    .dataframe tbody tr th:only-of-type {\n",
       "        vertical-align: middle;\n",
       "    }\n",
       "\n",
       "    .dataframe tbody tr th {\n",
       "        vertical-align: top;\n",
       "    }\n",
       "\n",
       "    .dataframe thead th {\n",
       "        text-align: right;\n",
       "    }\n",
       "</style>\n",
       "<table border=\"1\" class=\"dataframe\">\n",
       "  <thead>\n",
       "    <tr style=\"text-align: right;\">\n",
       "      <th></th>\n",
       "      <th>DateTime</th>\n",
       "      <th>Value</th>\n",
       "    </tr>\n",
       "  </thead>\n",
       "  <tbody>\n",
       "    <tr>\n",
       "      <th>count</th>\n",
       "      <td>288</td>\n",
       "      <td>288.000000</td>\n",
       "    </tr>\n",
       "    <tr>\n",
       "      <th>mean</th>\n",
       "      <td>2024-10-01 12:02:13.177083648</td>\n",
       "      <td>107.809028</td>\n",
       "    </tr>\n",
       "    <tr>\n",
       "      <th>min</th>\n",
       "      <td>2024-10-01 00:04:42</td>\n",
       "      <td>79.000000</td>\n",
       "    </tr>\n",
       "    <tr>\n",
       "      <th>25%</th>\n",
       "      <td>2024-10-01 06:03:27.750000128</td>\n",
       "      <td>93.000000</td>\n",
       "    </tr>\n",
       "    <tr>\n",
       "      <th>50%</th>\n",
       "      <td>2024-10-01 12:02:13</td>\n",
       "      <td>102.000000</td>\n",
       "    </tr>\n",
       "    <tr>\n",
       "      <th>75%</th>\n",
       "      <td>2024-10-01 18:00:59</td>\n",
       "      <td>115.250000</td>\n",
       "    </tr>\n",
       "    <tr>\n",
       "      <th>max</th>\n",
       "      <td>2024-10-01 23:59:44</td>\n",
       "      <td>184.000000</td>\n",
       "    </tr>\n",
       "    <tr>\n",
       "      <th>std</th>\n",
       "      <td>NaN</td>\n",
       "      <td>20.484080</td>\n",
       "    </tr>\n",
       "  </tbody>\n",
       "</table>\n",
       "</div>"
      ],
      "text/plain": [
       "                            DateTime       Value\n",
       "count                            288  288.000000\n",
       "mean   2024-10-01 12:02:13.177083648  107.809028\n",
       "min              2024-10-01 00:04:42   79.000000\n",
       "25%    2024-10-01 06:03:27.750000128   93.000000\n",
       "50%              2024-10-01 12:02:13  102.000000\n",
       "75%              2024-10-01 18:00:59  115.250000\n",
       "max              2024-10-01 23:59:44  184.000000\n",
       "std                              NaN   20.484080"
      ]
     },
     "execution_count": 31,
     "metadata": {},
     "output_type": "execute_result"
    }
   ],
   "source": [
    "# Display basic statistics about the data\n",
    "df0.describe()"
   ]
  },
  {
   "cell_type": "code",
   "execution_count": 32,
   "metadata": {},
   "outputs": [],
   "source": [
    "# Reindex df0\n",
    "df0 = df0.reset_index(drop=True)"
   ]
  },
  {
   "cell_type": "code",
   "execution_count": 33,
   "metadata": {},
   "outputs": [
    {
     "data": {
      "text/plain": [
       "288"
      ]
     },
     "execution_count": 33,
     "metadata": {},
     "output_type": "execute_result"
    }
   ],
   "source": [
    "# Add the new data to the existing CLARITY_DATA table\n",
    "df0.to_sql('CLARITY_DATA', con=sqlite3.connect('ClarityHistory.db'), if_exists='append', index=False)"
   ]
  },
  {
   "cell_type": "code",
   "execution_count": 34,
   "metadata": {},
   "outputs": [
    {
     "name": "stdout",
     "output_type": "stream",
     "text": [
      " * sqlite:///ClarityHistory.db\n",
      "Done.\n"
     ]
    },
    {
     "data": {
      "text/html": [
       "<table>\n",
       "    <thead>\n",
       "        <tr>\n",
       "            <th>total_duplicates</th>\n",
       "        </tr>\n",
       "    </thead>\n",
       "    <tbody>\n",
       "        <tr>\n",
       "            <td>None</td>\n",
       "        </tr>\n",
       "    </tbody>\n",
       "</table>"
      ],
      "text/plain": [
       "[(None,)]"
      ]
     },
     "execution_count": 34,
     "metadata": {},
     "output_type": "execute_result"
    }
   ],
   "source": [
    "%%sql\n",
    "-- Find the total count of duplicate rows in the CLARITY_DATA table\n",
    "SELECT SUM(duplicate_count - 1) AS total_duplicates\n",
    "FROM (\n",
    "    SELECT COUNT(*) AS duplicate_count\n",
    "    FROM CLARITY_DATA\n",
    "    GROUP BY Date, Time, DateTime, Value, Treatment, Source\n",
    "    HAVING COUNT(*) > 1\n",
    ") as duplicates;"
   ]
  },
  {
   "cell_type": "code",
   "execution_count": 35,
   "metadata": {},
   "outputs": [
    {
     "name": "stdout",
     "output_type": "stream",
     "text": [
      " * sqlite:///ClarityHistory.db\n",
      "0 rows affected.\n"
     ]
    },
    {
     "data": {
      "text/plain": [
       "[]"
      ]
     },
     "execution_count": 35,
     "metadata": {},
     "output_type": "execute_result"
    }
   ],
   "source": [
    "%%sql\n",
    "-- Delete duplicate rows in the CLARITY_DATA table\n",
    "DELETE FROM CLARITY_DATA\n",
    "WHERE rowid NOT IN (\n",
    "    SELECT MIN(rowid)\n",
    "    FROM CLARITY_DATA\n",
    "    GROUP BY Date, Time, DateTime, Value, Treatment, Source\n",
    ");"
   ]
  },
  {
   "cell_type": "code",
   "execution_count": 36,
   "metadata": {},
   "outputs": [
    {
     "name": "stdout",
     "output_type": "stream",
     "text": [
      " * sqlite:///ClarityHistory.db\n",
      "Done.\n"
     ]
    },
    {
     "data": {
      "text/html": [
       "<table>\n",
       "    <thead>\n",
       "        <tr>\n",
       "            <th>Date</th>\n",
       "        </tr>\n",
       "    </thead>\n",
       "    <tbody>\n",
       "    </tbody>\n",
       "</table>"
      ],
      "text/plain": [
       "[]"
      ]
     },
     "execution_count": 36,
     "metadata": {},
     "output_type": "execute_result"
    }
   ],
   "source": [
    "%%sql\n",
    "-- Find missing dates in CLARITY_DATA\n",
    "WITH DateRange AS (\n",
    "    -- Generate a range of consecutive dates between the minimum and maximum dates in the dataset\n",
    "    SELECT date(min(Date)) as StartDate, date(max(Date)) as EndDate\n",
    "    FROM CLARITY_DATA\n",
    "),\n",
    "AllDates AS (\n",
    "    -- Recursive query to generate all dates between StartDate and EndDate\n",
    "    SELECT StartDate as Date\n",
    "    FROM DateRange\n",
    "    UNION ALL\n",
    "    SELECT date(Date, '+1 day')\n",
    "    FROM AllDates, DateRange\n",
    "    WHERE Date < EndDate\n",
    ")\n",
    "-- Find dates in the generated date range that do not exist in your table\n",
    "SELECT Date\n",
    "FROM AllDates\n",
    "WHERE Date NOT IN (SELECT DISTINCT Date FROM CLARITY_DATA);"
   ]
  },
  {
   "cell_type": "code",
   "execution_count": 37,
   "metadata": {},
   "outputs": [
    {
     "name": "stdout",
     "output_type": "stream",
     "text": [
      " * sqlite:///ClarityHistory.db\n",
      "Done.\n"
     ]
    }
   ],
   "source": [
    "# Load the CLARITY_DATA table into a DataFrame\n",
    "df = %sql SELECT * FROM CLARITY_DATA\n",
    "\n",
    "# Convert the ResultSet to a DataFrame\n",
    "df1 = df.DataFrame()"
   ]
  },
  {
   "cell_type": "code",
   "execution_count": 38,
   "metadata": {},
   "outputs": [
    {
     "data": {
      "text/html": [
       "<div>\n",
       "<style scoped>\n",
       "    .dataframe tbody tr th:only-of-type {\n",
       "        vertical-align: middle;\n",
       "    }\n",
       "\n",
       "    .dataframe tbody tr th {\n",
       "        vertical-align: top;\n",
       "    }\n",
       "\n",
       "    .dataframe thead th {\n",
       "        text-align: right;\n",
       "    }\n",
       "</style>\n",
       "<table border=\"1\" class=\"dataframe\">\n",
       "  <thead>\n",
       "    <tr style=\"text-align: right;\">\n",
       "      <th></th>\n",
       "      <th>Date</th>\n",
       "      <th>Time</th>\n",
       "      <th>DateTime</th>\n",
       "      <th>Value</th>\n",
       "      <th>Treatment</th>\n",
       "      <th>Source</th>\n",
       "    </tr>\n",
       "  </thead>\n",
       "  <tbody>\n",
       "    <tr>\n",
       "      <th>0</th>\n",
       "      <td>2024-08-29</td>\n",
       "      <td>04:53 PM</td>\n",
       "      <td>2024-08-29 16:53:35</td>\n",
       "      <td>100</td>\n",
       "      <td>Mounjaro 12.5</td>\n",
       "      <td>CGM</td>\n",
       "    </tr>\n",
       "    <tr>\n",
       "      <th>1</th>\n",
       "      <td>2024-08-29</td>\n",
       "      <td>04:58 PM</td>\n",
       "      <td>2024-08-29 16:58:35</td>\n",
       "      <td>112</td>\n",
       "      <td>Mounjaro 12.5</td>\n",
       "      <td>CGM</td>\n",
       "    </tr>\n",
       "    <tr>\n",
       "      <th>2</th>\n",
       "      <td>2024-08-29</td>\n",
       "      <td>05:03 PM</td>\n",
       "      <td>2024-08-29 17:03:36</td>\n",
       "      <td>93</td>\n",
       "      <td>Mounjaro 12.5</td>\n",
       "      <td>CGM</td>\n",
       "    </tr>\n",
       "    <tr>\n",
       "      <th>3</th>\n",
       "      <td>2024-08-29</td>\n",
       "      <td>05:08 PM</td>\n",
       "      <td>2024-08-29 17:08:35</td>\n",
       "      <td>83</td>\n",
       "      <td>Mounjaro 12.5</td>\n",
       "      <td>CGM</td>\n",
       "    </tr>\n",
       "    <tr>\n",
       "      <th>4</th>\n",
       "      <td>2024-08-29</td>\n",
       "      <td>05:13 PM</td>\n",
       "      <td>2024-08-29 17:13:36</td>\n",
       "      <td>78</td>\n",
       "      <td>Mounjaro 12.5</td>\n",
       "      <td>CGM</td>\n",
       "    </tr>\n",
       "  </tbody>\n",
       "</table>\n",
       "</div>"
      ],
      "text/plain": [
       "         Date      Time             DateTime  Value      Treatment Source\n",
       "0  2024-08-29  04:53 PM  2024-08-29 16:53:35    100  Mounjaro 12.5    CGM\n",
       "1  2024-08-29  04:58 PM  2024-08-29 16:58:35    112  Mounjaro 12.5    CGM\n",
       "2  2024-08-29  05:03 PM  2024-08-29 17:03:36     93  Mounjaro 12.5    CGM\n",
       "3  2024-08-29  05:08 PM  2024-08-29 17:08:35     83  Mounjaro 12.5    CGM\n",
       "4  2024-08-29  05:13 PM  2024-08-29 17:13:36     78  Mounjaro 12.5    CGM"
      ]
     },
     "execution_count": 38,
     "metadata": {},
     "output_type": "execute_result"
    }
   ],
   "source": [
    "# Display the first 5 rows of the dataframe (df1)\n",
    "df1.head()"
   ]
  },
  {
   "cell_type": "code",
   "execution_count": 39,
   "metadata": {},
   "outputs": [
    {
     "name": "stdout",
     "output_type": "stream",
     "text": [
      "<class 'pandas.core.frame.DataFrame'>\n",
      "RangeIndex: 9518 entries, 0 to 9517\n",
      "Data columns (total 6 columns):\n",
      " #   Column     Non-Null Count  Dtype \n",
      "---  ------     --------------  ----- \n",
      " 0   Date       9518 non-null   object\n",
      " 1   Time       9518 non-null   object\n",
      " 2   DateTime   9518 non-null   object\n",
      " 3   Value      9518 non-null   int64 \n",
      " 4   Treatment  9518 non-null   object\n",
      " 5   Source     9518 non-null   object\n",
      "dtypes: int64(1), object(5)\n",
      "memory usage: 446.3+ KB\n"
     ]
    }
   ],
   "source": [
    "# Display basic information about the data\n",
    "df1.info()"
   ]
  },
  {
   "cell_type": "code",
   "execution_count": 40,
   "metadata": {},
   "outputs": [],
   "source": [
    "# Convert Date to datetime format and find the most recent 90 days by Date in df1\n",
    "df1['Date'] = pd.to_datetime(df1['Date'])\n",
    "most_recent_date = df1['Date'].max()\n",
    "ninety_days_ago = most_recent_date - pd.DateOffset(days=90)"
   ]
  },
  {
   "cell_type": "code",
   "execution_count": 41,
   "metadata": {},
   "outputs": [],
   "source": [
    "# Delete rows where Date is before ninety_days_ago and convert Date back to a date object\n",
    "df1 = df1[df1['Date'] > ninety_days_ago]\n",
    "df1['Date'] = df1['Date'].dt.date"
   ]
  },
  {
   "cell_type": "code",
   "execution_count": 42,
   "metadata": {},
   "outputs": [
    {
     "name": "stdout",
     "output_type": "stream",
     "text": [
      "Combined Data\n",
      "Min Date: 2024-08-29\n",
      "Max Date: 2024-10-01\n",
      "No missing dates, all dates are consecutive.\n"
     ]
    }
   ],
   "source": [
    "# Get the min and max dates\n",
    "min_date = df1['Date'].min()\n",
    "max_date = df1['Date'].max()\n",
    "\n",
    "print (\"Combined Data\")\n",
    "print(\"Min Date:\", min_date)\n",
    "print(\"Max Date:\", max_date)\n",
    "\n",
    "# Create a complete date range from min to max date\n",
    "complete_date_range = pd.date_range(start=min_date, end=max_date, freq='D')\n",
    "\n",
    "# Get the unique dates from your dataset\n",
    "unique_dates = pd.to_datetime(df1['Date']).sort_values().unique()\n",
    "\n",
    "# Check for missing dates using numpy set difference\n",
    "missing_dates = np.setdiff1d(complete_date_range, unique_dates)\n",
    "\n",
    "# Display missing dates, if any\n",
    "if len(missing_dates) > 0:\n",
    "    print(\"Missing dates:\")\n",
    "    print(missing_dates)\n",
    "else:\n",
    "    print(\"No missing dates, all dates are consecutive.\")"
   ]
  },
  {
   "cell_type": "code",
   "execution_count": 43,
   "metadata": {},
   "outputs": [
    {
     "name": "stdout",
     "output_type": "stream",
     "text": [
      "<class 'pandas.core.frame.DataFrame'>\n",
      "RangeIndex: 9518 entries, 0 to 9517\n",
      "Data columns (total 6 columns):\n",
      " #   Column     Non-Null Count  Dtype \n",
      "---  ------     --------------  ----- \n",
      " 0   Date       9518 non-null   object\n",
      " 1   Time       9518 non-null   object\n",
      " 2   DateTime   9518 non-null   object\n",
      " 3   Value      9518 non-null   int64 \n",
      " 4   Treatment  9518 non-null   object\n",
      " 5   Source     9518 non-null   object\n",
      "dtypes: int64(1), object(5)\n",
      "memory usage: 446.3+ KB\n"
     ]
    }
   ],
   "source": [
    "# Verify the changes\n",
    "df1.info()"
   ]
  },
  {
   "cell_type": "code",
   "execution_count": 44,
   "metadata": {},
   "outputs": [],
   "source": [
    "# Save df1 to a csv file\n",
    "df1.to_csv('Clarity Readings for Analysis.csv', index=False)"
   ]
  }
 ],
 "metadata": {
  "kernelspec": {
   "display_name": "Python 3",
   "language": "python",
   "name": "python3"
  },
  "language_info": {
   "codemirror_mode": {
    "name": "ipython",
    "version": 3
   },
   "file_extension": ".py",
   "mimetype": "text/x-python",
   "name": "python",
   "nbconvert_exporter": "python",
   "pygments_lexer": "ipython3",
   "version": "3.12.4"
  }
 },
 "nbformat": 4,
 "nbformat_minor": 2
}
