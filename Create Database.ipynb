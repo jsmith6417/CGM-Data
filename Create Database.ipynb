{
 "cells": [
  {
   "cell_type": "markdown",
   "metadata": {},
   "source": [
    "# **Create New SQLite Database and Add a Table**"
   ]
  },
  {
   "cell_type": "markdown",
   "metadata": {},
   "source": [
    "This Python program creates an SQLite database and imports data from a CSV file into a table. SQLite’s integration with Python simplifies handling larger datasets efficiently."
   ]
  },
  {
   "cell_type": "markdown",
   "metadata": {},
   "source": [
    "Run on Python 3.12 | No errors | No warnings"
   ]
  },
  {
   "cell_type": "code",
   "execution_count": 1,
   "metadata": {},
   "outputs": [],
   "source": [
    "# For data manipulation\n",
    "import pandas as pd\n",
    "\n",
    "# For working with SQLite databases\n",
    "import sqlite3"
   ]
  },
  {
   "cell_type": "code",
   "execution_count": 2,
   "metadata": {},
   "outputs": [],
   "source": [
    "# Load the SQL magic extension\n",
    "%load_ext sql"
   ]
  },
  {
   "cell_type": "code",
   "execution_count": 3,
   "metadata": {},
   "outputs": [],
   "source": [
    "# Create connection to the SQLite database (if the database doesn't exist, it will be created)\n",
    "%sql sqlite:///NewDatabase.db"
   ]
  },
  {
   "cell_type": "code",
   "execution_count": 4,
   "metadata": {},
   "outputs": [],
   "source": [
    "# Load the dataset\n",
    "df0 = pd.read_csv(\"New Data.csv\")"
   ]
  },
  {
   "cell_type": "code",
   "execution_count": 5,
   "metadata": {},
   "outputs": [
    {
     "data": {
      "text/html": [
       "<div>\n",
       "<style scoped>\n",
       "    .dataframe tbody tr th:only-of-type {\n",
       "        vertical-align: middle;\n",
       "    }\n",
       "\n",
       "    .dataframe tbody tr th {\n",
       "        vertical-align: top;\n",
       "    }\n",
       "\n",
       "    .dataframe thead th {\n",
       "        text-align: right;\n",
       "    }\n",
       "</style>\n",
       "<table border=\"1\" class=\"dataframe\">\n",
       "  <thead>\n",
       "    <tr style=\"text-align: right;\">\n",
       "      <th></th>\n",
       "      <th>Date</th>\n",
       "      <th>Time</th>\n",
       "      <th>DateTime</th>\n",
       "      <th>Value</th>\n",
       "      <th>Treatment</th>\n",
       "      <th>Source</th>\n",
       "    </tr>\n",
       "  </thead>\n",
       "  <tbody>\n",
       "    <tr>\n",
       "      <th>0</th>\n",
       "      <td>9/27/2024</td>\n",
       "      <td>12:00 AM</td>\n",
       "      <td>9/27/2024 0:00</td>\n",
       "      <td>109</td>\n",
       "      <td>Mounjaro 12.5</td>\n",
       "      <td>CGM</td>\n",
       "    </tr>\n",
       "    <tr>\n",
       "      <th>1</th>\n",
       "      <td>9/27/2024</td>\n",
       "      <td>12:05 AM</td>\n",
       "      <td>9/27/2024 0:05</td>\n",
       "      <td>107</td>\n",
       "      <td>Mounjaro 12.5</td>\n",
       "      <td>CGM</td>\n",
       "    </tr>\n",
       "    <tr>\n",
       "      <th>2</th>\n",
       "      <td>9/27/2024</td>\n",
       "      <td>12:10 AM</td>\n",
       "      <td>9/27/2024 0:10</td>\n",
       "      <td>103</td>\n",
       "      <td>Mounjaro 12.5</td>\n",
       "      <td>CGM</td>\n",
       "    </tr>\n",
       "    <tr>\n",
       "      <th>3</th>\n",
       "      <td>9/27/2024</td>\n",
       "      <td>12:15 AM</td>\n",
       "      <td>9/27/2024 0:15</td>\n",
       "      <td>100</td>\n",
       "      <td>Mounjaro 12.5</td>\n",
       "      <td>CGM</td>\n",
       "    </tr>\n",
       "    <tr>\n",
       "      <th>4</th>\n",
       "      <td>9/27/2024</td>\n",
       "      <td>12:20 AM</td>\n",
       "      <td>9/27/2024 0:20</td>\n",
       "      <td>100</td>\n",
       "      <td>Mounjaro 12.5</td>\n",
       "      <td>CGM</td>\n",
       "    </tr>\n",
       "  </tbody>\n",
       "</table>\n",
       "</div>"
      ],
      "text/plain": [
       "        Date      Time        DateTime  Value      Treatment Source\n",
       "0  9/27/2024  12:00 AM  9/27/2024 0:00    109  Mounjaro 12.5    CGM\n",
       "1  9/27/2024  12:05 AM  9/27/2024 0:05    107  Mounjaro 12.5    CGM\n",
       "2  9/27/2024  12:10 AM  9/27/2024 0:10    103  Mounjaro 12.5    CGM\n",
       "3  9/27/2024  12:15 AM  9/27/2024 0:15    100  Mounjaro 12.5    CGM\n",
       "4  9/27/2024  12:20 AM  9/27/2024 0:20    100  Mounjaro 12.5    CGM"
      ]
     },
     "execution_count": 5,
     "metadata": {},
     "output_type": "execute_result"
    }
   ],
   "source": [
    "# Display the first 5 rows of the dataframe\n",
    "df0.head()"
   ]
  },
  {
   "cell_type": "code",
   "execution_count": 6,
   "metadata": {},
   "outputs": [
    {
     "name": "stdout",
     "output_type": "stream",
     "text": [
      "<class 'pandas.core.frame.DataFrame'>\n",
      "RangeIndex: 282 entries, 0 to 281\n",
      "Data columns (total 6 columns):\n",
      " #   Column     Non-Null Count  Dtype \n",
      "---  ------     --------------  ----- \n",
      " 0   Date       282 non-null    object\n",
      " 1   Time       282 non-null    object\n",
      " 2   DateTime   282 non-null    object\n",
      " 3   Value      282 non-null    int64 \n",
      " 4   Treatment  282 non-null    object\n",
      " 5   Source     282 non-null    object\n",
      "dtypes: int64(1), object(5)\n",
      "memory usage: 13.3+ KB\n"
     ]
    }
   ],
   "source": [
    "# Display basic information about the data \n",
    "df0.info()"
   ]
  },
  {
   "cell_type": "code",
   "execution_count": 7,
   "metadata": {},
   "outputs": [
    {
     "data": {
      "text/plain": [
       "282"
      ]
     },
     "execution_count": 7,
     "metadata": {},
     "output_type": "execute_result"
    }
   ],
   "source": [
    "# Creat a table called NEW_DATA in the database\n",
    "df0.to_sql(\"NEW_DATA\", con=sqlite3.connect('NewDatabase.db'), if_exists='replace', index=False, method=\"multi\")"
   ]
  },
  {
   "cell_type": "code",
   "execution_count": 8,
   "metadata": {},
   "outputs": [
    {
     "name": "stdout",
     "output_type": "stream",
     "text": [
      " * sqlite:///NewDatabase.db\n",
      "Done.\n"
     ]
    },
    {
     "data": {
      "text/html": [
       "<table>\n",
       "    <thead>\n",
       "        <tr>\n",
       "            <th>cid</th>\n",
       "            <th>name</th>\n",
       "            <th>type</th>\n",
       "            <th>notnull</th>\n",
       "            <th>dflt_value</th>\n",
       "            <th>pk</th>\n",
       "        </tr>\n",
       "    </thead>\n",
       "    <tbody>\n",
       "        <tr>\n",
       "            <td>0</td>\n",
       "            <td>Date</td>\n",
       "            <td>TEXT</td>\n",
       "            <td>0</td>\n",
       "            <td>None</td>\n",
       "            <td>0</td>\n",
       "        </tr>\n",
       "        <tr>\n",
       "            <td>1</td>\n",
       "            <td>Time</td>\n",
       "            <td>TEXT</td>\n",
       "            <td>0</td>\n",
       "            <td>None</td>\n",
       "            <td>0</td>\n",
       "        </tr>\n",
       "        <tr>\n",
       "            <td>2</td>\n",
       "            <td>DateTime</td>\n",
       "            <td>TEXT</td>\n",
       "            <td>0</td>\n",
       "            <td>None</td>\n",
       "            <td>0</td>\n",
       "        </tr>\n",
       "        <tr>\n",
       "            <td>3</td>\n",
       "            <td>Value</td>\n",
       "            <td>INTEGER</td>\n",
       "            <td>0</td>\n",
       "            <td>None</td>\n",
       "            <td>0</td>\n",
       "        </tr>\n",
       "        <tr>\n",
       "            <td>4</td>\n",
       "            <td>Treatment</td>\n",
       "            <td>TEXT</td>\n",
       "            <td>0</td>\n",
       "            <td>None</td>\n",
       "            <td>0</td>\n",
       "        </tr>\n",
       "        <tr>\n",
       "            <td>5</td>\n",
       "            <td>Source</td>\n",
       "            <td>TEXT</td>\n",
       "            <td>0</td>\n",
       "            <td>None</td>\n",
       "            <td>0</td>\n",
       "        </tr>\n",
       "    </tbody>\n",
       "</table>"
      ],
      "text/plain": [
       "[(0, 'Date', 'TEXT', 0, None, 0),\n",
       " (1, 'Time', 'TEXT', 0, None, 0),\n",
       " (2, 'DateTime', 'TEXT', 0, None, 0),\n",
       " (3, 'Value', 'INTEGER', 0, None, 0),\n",
       " (4, 'Treatment', 'TEXT', 0, None, 0),\n",
       " (5, 'Source', 'TEXT', 0, None, 0)]"
      ]
     },
     "execution_count": 8,
     "metadata": {},
     "output_type": "execute_result"
    }
   ],
   "source": [
    "# Display column names and data types for the NEW_DATA table\n",
    "%sql PRAGMA table_info(NEW_DATA)"
   ]
  },
  {
   "cell_type": "code",
   "execution_count": 9,
   "metadata": {},
   "outputs": [
    {
     "name": "stdout",
     "output_type": "stream",
     "text": [
      " * sqlite:///NewDatabase.db\n",
      "Done.\n"
     ]
    },
    {
     "data": {
      "text/html": [
       "<table>\n",
       "    <thead>\n",
       "        <tr>\n",
       "            <th>COUNT(*)</th>\n",
       "        </tr>\n",
       "    </thead>\n",
       "    <tbody>\n",
       "        <tr>\n",
       "            <td>282</td>\n",
       "        </tr>\n",
       "    </tbody>\n",
       "</table>"
      ],
      "text/plain": [
       "[(282,)]"
      ]
     },
     "execution_count": 9,
     "metadata": {},
     "output_type": "execute_result"
    }
   ],
   "source": [
    "# Get the record count for NEW_DATA\n",
    "%sql SELECT COUNT(*) FROM NEW_DATA"
   ]
  },
  {
   "cell_type": "code",
   "execution_count": 10,
   "metadata": {},
   "outputs": [
    {
     "name": "stdout",
     "output_type": "stream",
     "text": [
      " * sqlite:///NewDatabase.db\n",
      "Done.\n"
     ]
    },
    {
     "data": {
      "text/html": [
       "<table>\n",
       "    <thead>\n",
       "        <tr>\n",
       "            <th>Date</th>\n",
       "            <th>Time</th>\n",
       "            <th>DateTime</th>\n",
       "            <th>Value</th>\n",
       "            <th>Treatment</th>\n",
       "            <th>Source</th>\n",
       "        </tr>\n",
       "    </thead>\n",
       "    <tbody>\n",
       "        <tr>\n",
       "            <td>9/27/2024</td>\n",
       "            <td>12:00 AM</td>\n",
       "            <td>9/27/2024 0:00</td>\n",
       "            <td>109</td>\n",
       "            <td>Mounjaro 12.5</td>\n",
       "            <td>CGM</td>\n",
       "        </tr>\n",
       "        <tr>\n",
       "            <td>9/27/2024</td>\n",
       "            <td>12:05 AM</td>\n",
       "            <td>9/27/2024 0:05</td>\n",
       "            <td>107</td>\n",
       "            <td>Mounjaro 12.5</td>\n",
       "            <td>CGM</td>\n",
       "        </tr>\n",
       "        <tr>\n",
       "            <td>9/27/2024</td>\n",
       "            <td>12:10 AM</td>\n",
       "            <td>9/27/2024 0:10</td>\n",
       "            <td>103</td>\n",
       "            <td>Mounjaro 12.5</td>\n",
       "            <td>CGM</td>\n",
       "        </tr>\n",
       "        <tr>\n",
       "            <td>9/27/2024</td>\n",
       "            <td>12:15 AM</td>\n",
       "            <td>9/27/2024 0:15</td>\n",
       "            <td>100</td>\n",
       "            <td>Mounjaro 12.5</td>\n",
       "            <td>CGM</td>\n",
       "        </tr>\n",
       "        <tr>\n",
       "            <td>9/27/2024</td>\n",
       "            <td>12:20 AM</td>\n",
       "            <td>9/27/2024 0:20</td>\n",
       "            <td>100</td>\n",
       "            <td>Mounjaro 12.5</td>\n",
       "            <td>CGM</td>\n",
       "        </tr>\n",
       "    </tbody>\n",
       "</table>"
      ],
      "text/plain": [
       "[('9/27/2024', '12:00 AM', '9/27/2024 0:00', 109, 'Mounjaro 12.5', 'CGM'),\n",
       " ('9/27/2024', '12:05 AM', '9/27/2024 0:05', 107, 'Mounjaro 12.5', 'CGM'),\n",
       " ('9/27/2024', '12:10 AM', '9/27/2024 0:10', 103, 'Mounjaro 12.5', 'CGM'),\n",
       " ('9/27/2024', '12:15 AM', '9/27/2024 0:15', 100, 'Mounjaro 12.5', 'CGM'),\n",
       " ('9/27/2024', '12:20 AM', '9/27/2024 0:20', 100, 'Mounjaro 12.5', 'CGM')]"
      ]
     },
     "execution_count": 10,
     "metadata": {},
     "output_type": "execute_result"
    }
   ],
   "source": [
    "# Display the first 5 rows of the NEW_DATA table\n",
    "%sql SELECT * FROM NEW_DATA LIMIT 5"
   ]
  }
 ],
 "metadata": {
  "kernelspec": {
   "display_name": "Python 3",
   "language": "python",
   "name": "python3"
  },
  "language_info": {
   "codemirror_mode": {
    "name": "ipython",
    "version": 3
   },
   "file_extension": ".py",
   "mimetype": "text/x-python",
   "name": "python",
   "nbconvert_exporter": "python",
   "pygments_lexer": "ipython3",
   "version": "3.12.4"
  }
 },
 "nbformat": 4,
 "nbformat_minor": 2
}
