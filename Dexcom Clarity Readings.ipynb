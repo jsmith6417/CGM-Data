{
 "cells": [
  {
   "cell_type": "markdown",
   "metadata": {},
   "source": [
    "# **Blood Glucose Readings from Dexcom Clarity**"
   ]
  },
  {
   "cell_type": "markdown",
   "metadata": {},
   "source": [
    "Run on Python 3.13 | No errors | No warnings"
   ]
  },
  {
   "cell_type": "code",
   "execution_count": 51,
   "metadata": {},
   "outputs": [],
   "source": [
    "# Import packages\n",
    "\n",
    "# For data manipulation\n",
    "import numpy as np\n",
    "import pandas as pd\n",
    "\n",
    "# for displaying and modifying the working directory\n",
    "import os as os\n",
    "\n",
    "# For working with datetime objects\n",
    "from datetime import datetime"
   ]
  },
  {
   "cell_type": "code",
   "execution_count": 52,
   "metadata": {},
   "outputs": [],
   "source": [
    "# Set the working directory\n",
    "os.chdir(r'D:\\OneDrive\\Documents\\Python\\Current\\Blood Glucose Readings\\Old') # absolute path, using \\ and r prefix"
   ]
  },
  {
   "cell_type": "code",
   "execution_count": null,
   "metadata": {},
   "outputs": [],
   "source": [
    "# Load the new data from Clarity\n",
    "df0 = pd.read_csv(\"Clarity_Export_Smith_Jeffrey.csv\", usecols=['Index', 'Timestamp (YYYY-MM-DDThh:mm:ss)', 'Event Type', 'Glucose Value (mg/dL)'])"
   ]
  },
  {
   "cell_type": "code",
   "execution_count": 54,
   "metadata": {},
   "outputs": [
    {
     "data": {
      "text/html": [
       "<div>\n",
       "<style scoped>\n",
       "    .dataframe tbody tr th:only-of-type {\n",
       "        vertical-align: middle;\n",
       "    }\n",
       "\n",
       "    .dataframe tbody tr th {\n",
       "        vertical-align: top;\n",
       "    }\n",
       "\n",
       "    .dataframe thead th {\n",
       "        text-align: right;\n",
       "    }\n",
       "</style>\n",
       "<table border=\"1\" class=\"dataframe\">\n",
       "  <thead>\n",
       "    <tr style=\"text-align: right;\">\n",
       "      <th></th>\n",
       "      <th>Index</th>\n",
       "      <th>Timestamp (YYYY-MM-DDThh:mm:ss)</th>\n",
       "      <th>Event Type</th>\n",
       "      <th>Glucose Value (mg/dL)</th>\n",
       "    </tr>\n",
       "  </thead>\n",
       "  <tbody>\n",
       "    <tr>\n",
       "      <th>0</th>\n",
       "      <td>1</td>\n",
       "      <td>NaN</td>\n",
       "      <td>FirstName</td>\n",
       "      <td>NaN</td>\n",
       "    </tr>\n",
       "    <tr>\n",
       "      <th>1</th>\n",
       "      <td>2</td>\n",
       "      <td>NaN</td>\n",
       "      <td>LastName</td>\n",
       "      <td>NaN</td>\n",
       "    </tr>\n",
       "    <tr>\n",
       "      <th>2</th>\n",
       "      <td>3</td>\n",
       "      <td>NaN</td>\n",
       "      <td>Device</td>\n",
       "      <td>NaN</td>\n",
       "    </tr>\n",
       "    <tr>\n",
       "      <th>3</th>\n",
       "      <td>4</td>\n",
       "      <td>2024-11-02T00:02:01</td>\n",
       "      <td>EGV</td>\n",
       "      <td>78.0</td>\n",
       "    </tr>\n",
       "    <tr>\n",
       "      <th>4</th>\n",
       "      <td>5</td>\n",
       "      <td>2024-11-02T00:07:01</td>\n",
       "      <td>EGV</td>\n",
       "      <td>77.0</td>\n",
       "    </tr>\n",
       "    <tr>\n",
       "      <th>5</th>\n",
       "      <td>6</td>\n",
       "      <td>2024-11-02T00:12:01</td>\n",
       "      <td>EGV</td>\n",
       "      <td>78.0</td>\n",
       "    </tr>\n",
       "    <tr>\n",
       "      <th>6</th>\n",
       "      <td>7</td>\n",
       "      <td>2024-11-02T00:17:01</td>\n",
       "      <td>EGV</td>\n",
       "      <td>78.0</td>\n",
       "    </tr>\n",
       "    <tr>\n",
       "      <th>7</th>\n",
       "      <td>8</td>\n",
       "      <td>2024-11-02T00:22:01</td>\n",
       "      <td>EGV</td>\n",
       "      <td>78.0</td>\n",
       "    </tr>\n",
       "    <tr>\n",
       "      <th>8</th>\n",
       "      <td>9</td>\n",
       "      <td>2024-11-02T00:27:01</td>\n",
       "      <td>EGV</td>\n",
       "      <td>79.0</td>\n",
       "    </tr>\n",
       "    <tr>\n",
       "      <th>9</th>\n",
       "      <td>10</td>\n",
       "      <td>2024-11-02T00:32:01</td>\n",
       "      <td>EGV</td>\n",
       "      <td>79.0</td>\n",
       "    </tr>\n",
       "  </tbody>\n",
       "</table>\n",
       "</div>"
      ],
      "text/plain": [
       "   Index Timestamp (YYYY-MM-DDThh:mm:ss) Event Type  Glucose Value (mg/dL)\n",
       "0      1                             NaN  FirstName                    NaN\n",
       "1      2                             NaN   LastName                    NaN\n",
       "2      3                             NaN     Device                    NaN\n",
       "3      4             2024-11-02T00:02:01        EGV                   78.0\n",
       "4      5             2024-11-02T00:07:01        EGV                   77.0\n",
       "5      6             2024-11-02T00:12:01        EGV                   78.0\n",
       "6      7             2024-11-02T00:17:01        EGV                   78.0\n",
       "7      8             2024-11-02T00:22:01        EGV                   78.0\n",
       "8      9             2024-11-02T00:27:01        EGV                   79.0\n",
       "9     10             2024-11-02T00:32:01        EGV                   79.0"
      ]
     },
     "execution_count": 54,
     "metadata": {},
     "output_type": "execute_result"
    }
   ],
   "source": [
    "# Display the first 10 rows of the dataframe (df0)\n",
    "df0.head(10)"
   ]
  },
  {
   "cell_type": "code",
   "execution_count": 55,
   "metadata": {},
   "outputs": [
    {
     "name": "stdout",
     "output_type": "stream",
     "text": [
      "<class 'pandas.core.frame.DataFrame'>\n",
      "RangeIndex: 290 entries, 0 to 289\n",
      "Data columns (total 4 columns):\n",
      " #   Column                           Non-Null Count  Dtype  \n",
      "---  ------                           --------------  -----  \n",
      " 0   Index                            290 non-null    int64  \n",
      " 1   Timestamp (YYYY-MM-DDThh:mm:ss)  287 non-null    object \n",
      " 2   Event Type                       290 non-null    object \n",
      " 3   Glucose Value (mg/dL)            287 non-null    float64\n",
      "dtypes: float64(1), int64(1), object(2)\n",
      "memory usage: 9.2+ KB\n"
     ]
    }
   ],
   "source": [
    "# Display basic information about the data \n",
    "df0.info()"
   ]
  },
  {
   "cell_type": "code",
   "execution_count": null,
   "metadata": {},
   "outputs": [],
   "source": [
    "# Keep only the rows where Event Type is EGV (estimated glucose value)\n",
    "df0 = df0[df0['Event Type'] == 'EGV']"
   ]
  },
  {
   "cell_type": "code",
   "execution_count": 57,
   "metadata": {},
   "outputs": [],
   "source": [
    "# Replace Glucose Value (mg/dL) with 40 where it is 'Low'\n",
    "df0['Glucose Value (mg/dL)'] = df0['Glucose Value (mg/dL)'].replace('Low', 40)"
   ]
  },
  {
   "cell_type": "code",
   "execution_count": 58,
   "metadata": {},
   "outputs": [],
   "source": [
    "# Convert Glucose Value (mg/dL) to integer\n",
    "df0['Glucose Value (mg/dL)'] = df0['Glucose Value (mg/dL)'].astype(int)"
   ]
  },
  {
   "cell_type": "code",
   "execution_count": 59,
   "metadata": {},
   "outputs": [],
   "source": [
    "# Convert the column to datetime format\n",
    "df0['Timestamp'] = pd.to_datetime(df0['Timestamp (YYYY-MM-DDThh:mm:ss)'], format='%Y-%m-%dT%H:%M:%S')"
   ]
  },
  {
   "cell_type": "code",
   "execution_count": 60,
   "metadata": {},
   "outputs": [],
   "source": [
    "# Delete the Timestamp (YYYY-MM-DDThh:mm:ss) and Event Type columns\n",
    "df0 = df0.drop(['Timestamp (YYYY-MM-DDThh:mm:ss)', 'Event Type'], axis=1)"
   ]
  },
  {
   "cell_type": "code",
   "execution_count": 61,
   "metadata": {},
   "outputs": [],
   "source": [
    "# Delete the Index column\n",
    "df0 = df0.drop(['Index'], axis=1)"
   ]
  },
  {
   "cell_type": "code",
   "execution_count": 62,
   "metadata": {},
   "outputs": [],
   "source": [
    "# Rename Glucose Value (mg/dL) to Value\n",
    "df0 = df0.rename(columns={'Glucose Value (mg/dL)': 'Value'})"
   ]
  },
  {
   "cell_type": "code",
   "execution_count": 63,
   "metadata": {},
   "outputs": [],
   "source": [
    "# Create a Date column from the Timestamp column using the date attribute\n",
    "df0['Date'] = df0['Timestamp'].dt.date"
   ]
  },
  {
   "cell_type": "code",
   "execution_count": 64,
   "metadata": {},
   "outputs": [],
   "source": [
    "# Create a column for Treatment\n",
    "df0['Date'] = pd.to_datetime(df0['Date'])\n",
    "\n",
    "conditions = [\n",
    "    (df0['Date'] > '2024-06-18'),\n",
    "    (df0['Date'] > '2024-01-30'),\n",
    "    (df0['Date'] > '2023-07-18'),\n",
    "    (df0['Date'] > '2023-02-28'),\n",
    "    (df0['Date'] > '2023-01-31')\n",
    "]\n",
    "\n",
    "choices = [\n",
    "    'Mounjaro 12.5',\n",
    "    'Mounjaro 10',\n",
    "    'Mounjaro 7.5',\n",
    "    'Mounjaro 5',\n",
    "    'Mounjaro 2.5'\n",
    "]\n",
    "\n",
    "df0['Treatment'] = np.select(conditions, choices, default='Untreated')"
   ]
  },
  {
   "cell_type": "code",
   "execution_count": 65,
   "metadata": {},
   "outputs": [],
   "source": [
    "# Creat a column named Time to extract the time from the Timestamp column\n",
    "df0['Time'] = df0['Timestamp'].dt.time"
   ]
  },
  {
   "cell_type": "code",
   "execution_count": 66,
   "metadata": {},
   "outputs": [],
   "source": [
    "# Rename Timestamp to DateTime\n",
    "df0 = df0.rename(columns={'Timestamp': 'DateTime'})"
   ]
  },
  {
   "cell_type": "code",
   "execution_count": 67,
   "metadata": {},
   "outputs": [],
   "source": [
    "# Format Time as AM/PM\n",
    "df0['Time'] = df0['Time'].apply(lambda x: x.strftime('%I:%M %p'))"
   ]
  },
  {
   "cell_type": "code",
   "execution_count": 68,
   "metadata": {},
   "outputs": [],
   "source": [
    "# Make Sure Date is only the date, not date and time\n",
    "df0['Date'] = df0['Date'].dt.date"
   ]
  },
  {
   "cell_type": "code",
   "execution_count": 69,
   "metadata": {},
   "outputs": [],
   "source": [
    "# Drop rows where Date is current date\n",
    "today = datetime.today().date()\n",
    "df0 = df0[df0['Date'] < today]"
   ]
  },
  {
   "cell_type": "code",
   "execution_count": 70,
   "metadata": {},
   "outputs": [],
   "source": [
    "# Reorder the columns\n",
    "df0 = df0[['Date', 'Time', 'DateTime', 'Value', 'Treatment']]"
   ]
  },
  {
   "cell_type": "code",
   "execution_count": 71,
   "metadata": {},
   "outputs": [],
   "source": [
    "# Add a column for Source\n",
    "df0['Source'] = 'CGM'"
   ]
  },
  {
   "cell_type": "code",
   "execution_count": 72,
   "metadata": {},
   "outputs": [
    {
     "name": "stdout",
     "output_type": "stream",
     "text": [
      "New Data\n",
      "Min Date: 2024-11-02\n",
      "Max Date: 2024-11-02\n"
     ]
    }
   ],
   "source": [
    "# Display the min and max dates\n",
    "min_date0 = df0['Date'].min()\n",
    "max_date0 = df0['Date'].max()\n",
    "\n",
    "print(\"New Data\")\n",
    "print(\"Min Date:\", min_date0)\n",
    "print(\"Max Date:\", max_date0)"
   ]
  },
  {
   "cell_type": "code",
   "execution_count": 73,
   "metadata": {},
   "outputs": [
    {
     "data": {
      "text/html": [
       "<div>\n",
       "<style scoped>\n",
       "    .dataframe tbody tr th:only-of-type {\n",
       "        vertical-align: middle;\n",
       "    }\n",
       "\n",
       "    .dataframe tbody tr th {\n",
       "        vertical-align: top;\n",
       "    }\n",
       "\n",
       "    .dataframe thead th {\n",
       "        text-align: right;\n",
       "    }\n",
       "</style>\n",
       "<table border=\"1\" class=\"dataframe\">\n",
       "  <thead>\n",
       "    <tr style=\"text-align: right;\">\n",
       "      <th></th>\n",
       "      <th>Date</th>\n",
       "      <th>Time</th>\n",
       "      <th>DateTime</th>\n",
       "      <th>Value</th>\n",
       "      <th>Treatment</th>\n",
       "      <th>Source</th>\n",
       "    </tr>\n",
       "  </thead>\n",
       "  <tbody>\n",
       "    <tr>\n",
       "      <th>3</th>\n",
       "      <td>2024-11-02</td>\n",
       "      <td>12:02 AM</td>\n",
       "      <td>2024-11-02 00:02:01</td>\n",
       "      <td>78</td>\n",
       "      <td>Mounjaro 12.5</td>\n",
       "      <td>CGM</td>\n",
       "    </tr>\n",
       "    <tr>\n",
       "      <th>4</th>\n",
       "      <td>2024-11-02</td>\n",
       "      <td>12:07 AM</td>\n",
       "      <td>2024-11-02 00:07:01</td>\n",
       "      <td>77</td>\n",
       "      <td>Mounjaro 12.5</td>\n",
       "      <td>CGM</td>\n",
       "    </tr>\n",
       "    <tr>\n",
       "      <th>5</th>\n",
       "      <td>2024-11-02</td>\n",
       "      <td>12:12 AM</td>\n",
       "      <td>2024-11-02 00:12:01</td>\n",
       "      <td>78</td>\n",
       "      <td>Mounjaro 12.5</td>\n",
       "      <td>CGM</td>\n",
       "    </tr>\n",
       "    <tr>\n",
       "      <th>6</th>\n",
       "      <td>2024-11-02</td>\n",
       "      <td>12:17 AM</td>\n",
       "      <td>2024-11-02 00:17:01</td>\n",
       "      <td>78</td>\n",
       "      <td>Mounjaro 12.5</td>\n",
       "      <td>CGM</td>\n",
       "    </tr>\n",
       "    <tr>\n",
       "      <th>7</th>\n",
       "      <td>2024-11-02</td>\n",
       "      <td>12:22 AM</td>\n",
       "      <td>2024-11-02 00:22:01</td>\n",
       "      <td>78</td>\n",
       "      <td>Mounjaro 12.5</td>\n",
       "      <td>CGM</td>\n",
       "    </tr>\n",
       "  </tbody>\n",
       "</table>\n",
       "</div>"
      ],
      "text/plain": [
       "         Date      Time            DateTime  Value      Treatment Source\n",
       "3  2024-11-02  12:02 AM 2024-11-02 00:02:01     78  Mounjaro 12.5    CGM\n",
       "4  2024-11-02  12:07 AM 2024-11-02 00:07:01     77  Mounjaro 12.5    CGM\n",
       "5  2024-11-02  12:12 AM 2024-11-02 00:12:01     78  Mounjaro 12.5    CGM\n",
       "6  2024-11-02  12:17 AM 2024-11-02 00:17:01     78  Mounjaro 12.5    CGM\n",
       "7  2024-11-02  12:22 AM 2024-11-02 00:22:01     78  Mounjaro 12.5    CGM"
      ]
     },
     "execution_count": 73,
     "metadata": {},
     "output_type": "execute_result"
    }
   ],
   "source": [
    "# Display the first 5 rows of the dataframe (df0)\n",
    "df0.head()"
   ]
  },
  {
   "cell_type": "code",
   "execution_count": 74,
   "metadata": {},
   "outputs": [
    {
     "name": "stdout",
     "output_type": "stream",
     "text": [
      "<class 'pandas.core.frame.DataFrame'>\n",
      "Index: 287 entries, 3 to 289\n",
      "Data columns (total 6 columns):\n",
      " #   Column     Non-Null Count  Dtype         \n",
      "---  ------     --------------  -----         \n",
      " 0   Date       287 non-null    object        \n",
      " 1   Time       287 non-null    object        \n",
      " 2   DateTime   287 non-null    datetime64[ns]\n",
      " 3   Value      287 non-null    int64         \n",
      " 4   Treatment  287 non-null    object        \n",
      " 5   Source     287 non-null    object        \n",
      "dtypes: datetime64[ns](1), int64(1), object(4)\n",
      "memory usage: 15.7+ KB\n"
     ]
    }
   ],
   "source": [
    "# Display basic information about the data \n",
    "df0.info()"
   ]
  },
  {
   "cell_type": "code",
   "execution_count": 75,
   "metadata": {},
   "outputs": [
    {
     "data": {
      "text/html": [
       "<div>\n",
       "<style scoped>\n",
       "    .dataframe tbody tr th:only-of-type {\n",
       "        vertical-align: middle;\n",
       "    }\n",
       "\n",
       "    .dataframe tbody tr th {\n",
       "        vertical-align: top;\n",
       "    }\n",
       "\n",
       "    .dataframe thead th {\n",
       "        text-align: right;\n",
       "    }\n",
       "</style>\n",
       "<table border=\"1\" class=\"dataframe\">\n",
       "  <thead>\n",
       "    <tr style=\"text-align: right;\">\n",
       "      <th></th>\n",
       "      <th>DateTime</th>\n",
       "      <th>Value</th>\n",
       "    </tr>\n",
       "  </thead>\n",
       "  <tbody>\n",
       "    <tr>\n",
       "      <th>count</th>\n",
       "      <td>287</td>\n",
       "      <td>287.000000</td>\n",
       "    </tr>\n",
       "    <tr>\n",
       "      <th>mean</th>\n",
       "      <td>2024-11-02 11:57:32.306620160</td>\n",
       "      <td>105.087108</td>\n",
       "    </tr>\n",
       "    <tr>\n",
       "      <th>min</th>\n",
       "      <td>2024-11-02 00:02:01</td>\n",
       "      <td>77.000000</td>\n",
       "    </tr>\n",
       "    <tr>\n",
       "      <th>25%</th>\n",
       "      <td>2024-11-02 05:59:32</td>\n",
       "      <td>92.000000</td>\n",
       "    </tr>\n",
       "    <tr>\n",
       "      <th>50%</th>\n",
       "      <td>2024-11-02 11:57:03</td>\n",
       "      <td>99.000000</td>\n",
       "    </tr>\n",
       "    <tr>\n",
       "      <th>75%</th>\n",
       "      <td>2024-11-02 17:54:34</td>\n",
       "      <td>116.500000</td>\n",
       "    </tr>\n",
       "    <tr>\n",
       "      <th>max</th>\n",
       "      <td>2024-11-02 23:57:04</td>\n",
       "      <td>158.000000</td>\n",
       "    </tr>\n",
       "    <tr>\n",
       "      <th>std</th>\n",
       "      <td>NaN</td>\n",
       "      <td>18.413170</td>\n",
       "    </tr>\n",
       "  </tbody>\n",
       "</table>\n",
       "</div>"
      ],
      "text/plain": [
       "                            DateTime       Value\n",
       "count                            287  287.000000\n",
       "mean   2024-11-02 11:57:32.306620160  105.087108\n",
       "min              2024-11-02 00:02:01   77.000000\n",
       "25%              2024-11-02 05:59:32   92.000000\n",
       "50%              2024-11-02 11:57:03   99.000000\n",
       "75%              2024-11-02 17:54:34  116.500000\n",
       "max              2024-11-02 23:57:04  158.000000\n",
       "std                              NaN   18.413170"
      ]
     },
     "execution_count": 75,
     "metadata": {},
     "output_type": "execute_result"
    }
   ],
   "source": [
    "# Display basic statistics about the data\n",
    "df0.describe()"
   ]
  },
  {
   "cell_type": "code",
   "execution_count": 76,
   "metadata": {},
   "outputs": [],
   "source": [
    "# Reindex df0\n",
    "df0 = df0.reset_index(drop=True)"
   ]
  },
  {
   "cell_type": "code",
   "execution_count": 77,
   "metadata": {},
   "outputs": [],
   "source": [
    "# Load Clarity history to df1\n",
    "df1 = pd.read_csv(\"Clarity History.csv\")"
   ]
  },
  {
   "cell_type": "code",
   "execution_count": 78,
   "metadata": {},
   "outputs": [
    {
     "data": {
      "text/html": [
       "<div>\n",
       "<style scoped>\n",
       "    .dataframe tbody tr th:only-of-type {\n",
       "        vertical-align: middle;\n",
       "    }\n",
       "\n",
       "    .dataframe tbody tr th {\n",
       "        vertical-align: top;\n",
       "    }\n",
       "\n",
       "    .dataframe thead th {\n",
       "        text-align: right;\n",
       "    }\n",
       "</style>\n",
       "<table border=\"1\" class=\"dataframe\">\n",
       "  <thead>\n",
       "    <tr style=\"text-align: right;\">\n",
       "      <th></th>\n",
       "      <th>Date</th>\n",
       "      <th>Time</th>\n",
       "      <th>DateTime</th>\n",
       "      <th>Value</th>\n",
       "      <th>Treatment</th>\n",
       "      <th>Source</th>\n",
       "    </tr>\n",
       "  </thead>\n",
       "  <tbody>\n",
       "    <tr>\n",
       "      <th>0</th>\n",
       "      <td>2024-08-29</td>\n",
       "      <td>04:53 PM</td>\n",
       "      <td>2024-08-29 16:53:35</td>\n",
       "      <td>100</td>\n",
       "      <td>Mounjaro 12.5</td>\n",
       "      <td>CGM</td>\n",
       "    </tr>\n",
       "    <tr>\n",
       "      <th>1</th>\n",
       "      <td>2024-08-29</td>\n",
       "      <td>04:58 PM</td>\n",
       "      <td>2024-08-29 16:58:35</td>\n",
       "      <td>112</td>\n",
       "      <td>Mounjaro 12.5</td>\n",
       "      <td>CGM</td>\n",
       "    </tr>\n",
       "    <tr>\n",
       "      <th>2</th>\n",
       "      <td>2024-08-29</td>\n",
       "      <td>05:03 PM</td>\n",
       "      <td>2024-08-29 17:03:36</td>\n",
       "      <td>93</td>\n",
       "      <td>Mounjaro 12.5</td>\n",
       "      <td>CGM</td>\n",
       "    </tr>\n",
       "    <tr>\n",
       "      <th>3</th>\n",
       "      <td>2024-08-29</td>\n",
       "      <td>05:08 PM</td>\n",
       "      <td>2024-08-29 17:08:35</td>\n",
       "      <td>83</td>\n",
       "      <td>Mounjaro 12.5</td>\n",
       "      <td>CGM</td>\n",
       "    </tr>\n",
       "    <tr>\n",
       "      <th>4</th>\n",
       "      <td>2024-08-29</td>\n",
       "      <td>05:13 PM</td>\n",
       "      <td>2024-08-29 17:13:36</td>\n",
       "      <td>78</td>\n",
       "      <td>Mounjaro 12.5</td>\n",
       "      <td>CGM</td>\n",
       "    </tr>\n",
       "  </tbody>\n",
       "</table>\n",
       "</div>"
      ],
      "text/plain": [
       "         Date      Time             DateTime  Value      Treatment Source\n",
       "0  2024-08-29  04:53 PM  2024-08-29 16:53:35    100  Mounjaro 12.5    CGM\n",
       "1  2024-08-29  04:58 PM  2024-08-29 16:58:35    112  Mounjaro 12.5    CGM\n",
       "2  2024-08-29  05:03 PM  2024-08-29 17:03:36     93  Mounjaro 12.5    CGM\n",
       "3  2024-08-29  05:08 PM  2024-08-29 17:08:35     83  Mounjaro 12.5    CGM\n",
       "4  2024-08-29  05:13 PM  2024-08-29 17:13:36     78  Mounjaro 12.5    CGM"
      ]
     },
     "execution_count": 78,
     "metadata": {},
     "output_type": "execute_result"
    }
   ],
   "source": [
    "# Display the first 5 rows of the dataframe (df1)\n",
    "df1.head()"
   ]
  },
  {
   "cell_type": "code",
   "execution_count": 79,
   "metadata": {},
   "outputs": [
    {
     "name": "stdout",
     "output_type": "stream",
     "text": [
      "<class 'pandas.core.frame.DataFrame'>\n",
      "RangeIndex: 17926 entries, 0 to 17925\n",
      "Data columns (total 6 columns):\n",
      " #   Column     Non-Null Count  Dtype \n",
      "---  ------     --------------  ----- \n",
      " 0   Date       17926 non-null  object\n",
      " 1   Time       17926 non-null  object\n",
      " 2   DateTime   17926 non-null  object\n",
      " 3   Value      17926 non-null  int64 \n",
      " 4   Treatment  17926 non-null  object\n",
      " 5   Source     17926 non-null  object\n",
      "dtypes: int64(1), object(5)\n",
      "memory usage: 840.4+ KB\n"
     ]
    }
   ],
   "source": [
    "# Display basic information about the data \n",
    "df1.info()"
   ]
  },
  {
   "cell_type": "code",
   "execution_count": 80,
   "metadata": {},
   "outputs": [
    {
     "name": "stdout",
     "output_type": "stream",
     "text": [
      "Saved Data\n",
      "Min Date: 2024-08-29\n",
      "Max Date: 2024-11-01\n"
     ]
    }
   ],
   "source": [
    "# Display the min and max dates\n",
    "min_date1 = df1['Date'].min()\n",
    "max_date1 = df1['Date'].max()\n",
    "\n",
    "print(\"Saved Data\")\n",
    "print(\"Min Date:\", min_date1)\n",
    "print(\"Max Date:\", max_date1)"
   ]
  },
  {
   "cell_type": "code",
   "execution_count": 81,
   "metadata": {},
   "outputs": [],
   "source": [
    "# Concatenate df0 and df1\n",
    "df2 = pd.concat([df0, df1])"
   ]
  },
  {
   "cell_type": "code",
   "execution_count": 82,
   "metadata": {},
   "outputs": [],
   "source": [
    "# Reindex df2\n",
    "df2 = df2.reset_index(drop=True)"
   ]
  },
  {
   "cell_type": "code",
   "execution_count": 83,
   "metadata": {},
   "outputs": [
    {
     "data": {
      "text/html": [
       "<div>\n",
       "<style scoped>\n",
       "    .dataframe tbody tr th:only-of-type {\n",
       "        vertical-align: middle;\n",
       "    }\n",
       "\n",
       "    .dataframe tbody tr th {\n",
       "        vertical-align: top;\n",
       "    }\n",
       "\n",
       "    .dataframe thead th {\n",
       "        text-align: right;\n",
       "    }\n",
       "</style>\n",
       "<table border=\"1\" class=\"dataframe\">\n",
       "  <thead>\n",
       "    <tr style=\"text-align: right;\">\n",
       "      <th></th>\n",
       "      <th>Date</th>\n",
       "      <th>Time</th>\n",
       "      <th>DateTime</th>\n",
       "      <th>Value</th>\n",
       "      <th>Treatment</th>\n",
       "      <th>Source</th>\n",
       "    </tr>\n",
       "  </thead>\n",
       "  <tbody>\n",
       "    <tr>\n",
       "      <th>0</th>\n",
       "      <td>2024-11-02</td>\n",
       "      <td>12:02 AM</td>\n",
       "      <td>2024-11-02 00:02:01</td>\n",
       "      <td>78</td>\n",
       "      <td>Mounjaro 12.5</td>\n",
       "      <td>CGM</td>\n",
       "    </tr>\n",
       "    <tr>\n",
       "      <th>1</th>\n",
       "      <td>2024-11-02</td>\n",
       "      <td>12:07 AM</td>\n",
       "      <td>2024-11-02 00:07:01</td>\n",
       "      <td>77</td>\n",
       "      <td>Mounjaro 12.5</td>\n",
       "      <td>CGM</td>\n",
       "    </tr>\n",
       "    <tr>\n",
       "      <th>2</th>\n",
       "      <td>2024-11-02</td>\n",
       "      <td>12:12 AM</td>\n",
       "      <td>2024-11-02 00:12:01</td>\n",
       "      <td>78</td>\n",
       "      <td>Mounjaro 12.5</td>\n",
       "      <td>CGM</td>\n",
       "    </tr>\n",
       "    <tr>\n",
       "      <th>3</th>\n",
       "      <td>2024-11-02</td>\n",
       "      <td>12:17 AM</td>\n",
       "      <td>2024-11-02 00:17:01</td>\n",
       "      <td>78</td>\n",
       "      <td>Mounjaro 12.5</td>\n",
       "      <td>CGM</td>\n",
       "    </tr>\n",
       "    <tr>\n",
       "      <th>4</th>\n",
       "      <td>2024-11-02</td>\n",
       "      <td>12:22 AM</td>\n",
       "      <td>2024-11-02 00:22:01</td>\n",
       "      <td>78</td>\n",
       "      <td>Mounjaro 12.5</td>\n",
       "      <td>CGM</td>\n",
       "    </tr>\n",
       "  </tbody>\n",
       "</table>\n",
       "</div>"
      ],
      "text/plain": [
       "         Date      Time             DateTime  Value      Treatment Source\n",
       "0  2024-11-02  12:02 AM  2024-11-02 00:02:01     78  Mounjaro 12.5    CGM\n",
       "1  2024-11-02  12:07 AM  2024-11-02 00:07:01     77  Mounjaro 12.5    CGM\n",
       "2  2024-11-02  12:12 AM  2024-11-02 00:12:01     78  Mounjaro 12.5    CGM\n",
       "3  2024-11-02  12:17 AM  2024-11-02 00:17:01     78  Mounjaro 12.5    CGM\n",
       "4  2024-11-02  12:22 AM  2024-11-02 00:22:01     78  Mounjaro 12.5    CGM"
      ]
     },
     "execution_count": 83,
     "metadata": {},
     "output_type": "execute_result"
    }
   ],
   "source": [
    "# Display the first 5 rows of the dataframe (df2)\n",
    "df2.head()"
   ]
  },
  {
   "cell_type": "code",
   "execution_count": 84,
   "metadata": {},
   "outputs": [
    {
     "name": "stdout",
     "output_type": "stream",
     "text": [
      "<class 'pandas.core.frame.DataFrame'>\n",
      "RangeIndex: 18213 entries, 0 to 18212\n",
      "Data columns (total 6 columns):\n",
      " #   Column     Non-Null Count  Dtype \n",
      "---  ------     --------------  ----- \n",
      " 0   Date       18213 non-null  object\n",
      " 1   Time       18213 non-null  object\n",
      " 2   DateTime   18213 non-null  object\n",
      " 3   Value      18213 non-null  int64 \n",
      " 4   Treatment  18213 non-null  object\n",
      " 5   Source     18213 non-null  object\n",
      "dtypes: int64(1), object(5)\n",
      "memory usage: 853.9+ KB\n"
     ]
    }
   ],
   "source": [
    "# Display basic information about the data \n",
    "df2.info()"
   ]
  },
  {
   "cell_type": "code",
   "execution_count": 85,
   "metadata": {},
   "outputs": [],
   "source": [
    "# Convert DateTime to datetime format\n",
    "df2['DateTime'] = pd.to_datetime(df2['DateTime'])"
   ]
  },
  {
   "cell_type": "code",
   "execution_count": 86,
   "metadata": {},
   "outputs": [],
   "source": [
    "# Sort df2 by DateTime\n",
    "df2 = df2.sort_values(by='DateTime')"
   ]
  },
  {
   "cell_type": "code",
   "execution_count": 87,
   "metadata": {},
   "outputs": [],
   "source": [
    "# Convert Date to datetime format\n",
    "df2['Date'] = pd.to_datetime(df2['Date'])"
   ]
  },
  {
   "cell_type": "code",
   "execution_count": 88,
   "metadata": {},
   "outputs": [],
   "source": [
    "# Find the most recent 90 days by Date in df2\n",
    "most_recent_date = df2['Date'].max()\n",
    "ninety_days_ago = most_recent_date - pd.DateOffset(days=90)"
   ]
  },
  {
   "cell_type": "code",
   "execution_count": 89,
   "metadata": {},
   "outputs": [],
   "source": [
    "# Make Sure Date is only the date, not date and time\n",
    "df2['Date'] = df2['Date'].dt.date"
   ]
  },
  {
   "cell_type": "code",
   "execution_count": 90,
   "metadata": {},
   "outputs": [
    {
     "name": "stdout",
     "output_type": "stream",
     "text": [
      "Saved Data\n",
      "Min Date: 2024-08-29\n",
      "Max Date: 2024-11-01\n",
      "\n",
      "New Data\n",
      "Min Date: 2024-11-02\n",
      "Max Date: 2024-11-02\n",
      "\n",
      "Combined Data\n",
      "Min Date: 2024-08-29\n",
      "Max Date: 2024-11-02\n",
      "No missing dates, all dates are consecutive.\n"
     ]
    }
   ],
   "source": [
    "# Verify that all dates are consecutive\n",
    "\n",
    "print(\"Saved Data\")\n",
    "print(\"Min Date:\", min_date1)\n",
    "print(\"Max Date:\", max_date1)\n",
    "print(\"\")\n",
    "\n",
    "print(\"New Data\")\n",
    "print(\"Min Date:\", min_date0)\n",
    "print(\"Max Date:\", max_date0)\n",
    "print(\"\")\n",
    "\n",
    "# Get the min and max dates\n",
    "min_date2 = df2['Date'].min()\n",
    "max_date2 = df2['Date'].max()\n",
    "\n",
    "print (\"Combined Data\")\n",
    "print(\"Min Date:\", min_date2)\n",
    "print(\"Max Date:\", max_date2)\n",
    "\n",
    "# Create a complete date range from min to max date\n",
    "complete_date_range = pd.date_range(start=min_date2, end=max_date2, freq='D')\n",
    "\n",
    "# Get the unique dates from your dataset\n",
    "unique_dates = pd.to_datetime(df2['Date']).sort_values().unique()\n",
    "\n",
    "# Check for missing dates using numpy set difference\n",
    "missing_dates = np.setdiff1d(complete_date_range, unique_dates)\n",
    "\n",
    "# Display missing dates, if any\n",
    "if len(missing_dates) > 0:\n",
    "    print(\"Missing dates:\")\n",
    "    print(missing_dates)\n",
    "else:\n",
    "    print(\"No missing dates, all dates are consecutive.\")"
   ]
  },
  {
   "cell_type": "code",
   "execution_count": 91,
   "metadata": {},
   "outputs": [
    {
     "name": "stdout",
     "output_type": "stream",
     "text": [
      "<class 'pandas.core.frame.DataFrame'>\n",
      "Index: 18213 entries, 287 to 286\n",
      "Data columns (total 6 columns):\n",
      " #   Column     Non-Null Count  Dtype         \n",
      "---  ------     --------------  -----         \n",
      " 0   Date       18213 non-null  object        \n",
      " 1   Time       18213 non-null  object        \n",
      " 2   DateTime   18213 non-null  datetime64[ns]\n",
      " 3   Value      18213 non-null  int64         \n",
      " 4   Treatment  18213 non-null  object        \n",
      " 5   Source     18213 non-null  object        \n",
      "dtypes: datetime64[ns](1), int64(1), object(4)\n",
      "memory usage: 996.0+ KB\n"
     ]
    }
   ],
   "source": [
    "# Verify the dataset\n",
    "df2.info()"
   ]
  },
  {
   "cell_type": "code",
   "execution_count": 92,
   "metadata": {},
   "outputs": [
    {
     "name": "stdout",
     "output_type": "stream",
     "text": [
      "Number of duplicate rows: 0\n"
     ]
    }
   ],
   "source": [
    "# Find and count duplicate rows\n",
    "duplicate_count = df2.duplicated().sum()\n",
    "\n",
    "print(f\"Number of duplicate rows: {duplicate_count}\")"
   ]
  },
  {
   "cell_type": "code",
   "execution_count": 93,
   "metadata": {},
   "outputs": [],
   "source": [
    "# Delete duplicate rows\n",
    "df2 = df2.drop_duplicates()"
   ]
  },
  {
   "cell_type": "code",
   "execution_count": 94,
   "metadata": {},
   "outputs": [
    {
     "name": "stdout",
     "output_type": "stream",
     "text": [
      "Number of duplicate rows: 0\n"
     ]
    }
   ],
   "source": [
    "# Find and count duplicate rows\n",
    "duplicate_count = df2.duplicated().sum()\n",
    "\n",
    "print(f\"Number of duplicate rows: {duplicate_count}\")"
   ]
  },
  {
   "cell_type": "code",
   "execution_count": 95,
   "metadata": {},
   "outputs": [],
   "source": [
    "# Reindex df2\n",
    "df2 = df2.reset_index(drop=True)"
   ]
  },
  {
   "cell_type": "code",
   "execution_count": 96,
   "metadata": {},
   "outputs": [
    {
     "name": "stdout",
     "output_type": "stream",
     "text": [
      "<class 'pandas.core.frame.DataFrame'>\n",
      "RangeIndex: 18213 entries, 0 to 18212\n",
      "Data columns (total 6 columns):\n",
      " #   Column     Non-Null Count  Dtype         \n",
      "---  ------     --------------  -----         \n",
      " 0   Date       18213 non-null  object        \n",
      " 1   Time       18213 non-null  object        \n",
      " 2   DateTime   18213 non-null  datetime64[ns]\n",
      " 3   Value      18213 non-null  int64         \n",
      " 4   Treatment  18213 non-null  object        \n",
      " 5   Source     18213 non-null  object        \n",
      "dtypes: datetime64[ns](1), int64(1), object(4)\n",
      "memory usage: 853.9+ KB\n"
     ]
    }
   ],
   "source": [
    "# Validate the dataset\n",
    "df2.info()"
   ]
  },
  {
   "cell_type": "code",
   "execution_count": 97,
   "metadata": {},
   "outputs": [],
   "source": [
    "# Save updated hsitory to a csv file\n",
    "df2.to_csv('Clarity History.csv', index=False)"
   ]
  },
  {
   "cell_type": "code",
   "execution_count": 98,
   "metadata": {},
   "outputs": [],
   "source": [
    "# Delete rows where Date is before ninety_days_ago\n",
    "df2['Date'] = pd.to_datetime(df2['Date'])\n",
    "df2 = df2[df2['Date'] > ninety_days_ago]\n",
    "df2['Date'] = df2['Date'].dt.date"
   ]
  },
  {
   "cell_type": "code",
   "execution_count": 99,
   "metadata": {},
   "outputs": [
    {
     "name": "stdout",
     "output_type": "stream",
     "text": [
      "<class 'pandas.core.frame.DataFrame'>\n",
      "RangeIndex: 18213 entries, 0 to 18212\n",
      "Data columns (total 6 columns):\n",
      " #   Column     Non-Null Count  Dtype         \n",
      "---  ------     --------------  -----         \n",
      " 0   Date       18213 non-null  object        \n",
      " 1   Time       18213 non-null  object        \n",
      " 2   DateTime   18213 non-null  datetime64[ns]\n",
      " 3   Value      18213 non-null  int64         \n",
      " 4   Treatment  18213 non-null  object        \n",
      " 5   Source     18213 non-null  object        \n",
      "dtypes: datetime64[ns](1), int64(1), object(4)\n",
      "memory usage: 853.9+ KB\n"
     ]
    }
   ],
   "source": [
    "# Verify the changes\n",
    "df2.info()"
   ]
  },
  {
   "cell_type": "code",
   "execution_count": 100,
   "metadata": {},
   "outputs": [],
   "source": [
    "# Save df2 to a csv file\n",
    "df2.to_csv('Clarity Readings for Analysis.csv', index=False)"
   ]
  }
 ],
 "metadata": {
  "kernelspec": {
   "display_name": "Python 3",
   "language": "python",
   "name": "python3"
  },
  "language_info": {
   "codemirror_mode": {
    "name": "ipython",
    "version": 3
   },
   "file_extension": ".py",
   "mimetype": "text/x-python",
   "name": "python",
   "nbconvert_exporter": "python",
   "pygments_lexer": "ipython3",
   "version": "3.13.0"
  }
 },
 "nbformat": 4,
 "nbformat_minor": 2
}
