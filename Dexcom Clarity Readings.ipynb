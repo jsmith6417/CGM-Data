{
 "cells": [
  {
   "cell_type": "markdown",
   "metadata": {},
   "source": [
    "# **Blood Glucose Readings from Dexcom Clarity**"
   ]
  },
  {
   "cell_type": "markdown",
   "metadata": {},
   "source": [
    "Run on Python 3.13 | No errors | No warnings"
   ]
  },
  {
   "cell_type": "code",
   "execution_count": null,
   "metadata": {},
   "outputs": [],
   "source": [
    "# Import packages\n",
    "\n",
    "# For data manipulation\n",
    "import numpy as np\n",
    "import pandas as pd\n",
    "\n",
    "# for displaying and modifying the working directory\n",
    "import os as os\n",
    "\n",
    "# For working with datetime objects\n",
    "from datetime import datetime"
   ]
  },
  {
   "cell_type": "code",
   "execution_count": null,
   "metadata": {},
   "outputs": [],
   "source": [
    "# Set the working directory\n",
    "os.chdir(r'D:\\OneDrive\\Documents\\Python\\Current\\Blood Glucose Readings\\Old') # absolute path, using \\ and r prefix"
   ]
  },
  {
   "cell_type": "code",
   "execution_count": null,
   "metadata": {},
   "outputs": [],
   "source": [
    "# Load the new data from Clarity\n",
    "df0 = pd.read_csv(\"Clarity_Export_Smith_Jeffrey.csv\", usecols=['Index', 'Timestamp (YYYY-MM-DDThh:mm:ss)', 'Event Type', 'Glucose Value (mg/dL)'])"
   ]
  },
  {
   "cell_type": "code",
   "execution_count": null,
   "metadata": {},
   "outputs": [],
   "source": [
    "# Display the first 10 rows of the dataframe (df0)\n",
    "df0.head(10)"
   ]
  },
  {
   "cell_type": "code",
   "execution_count": null,
   "metadata": {},
   "outputs": [],
   "source": [
    "# Display basic information about the data \n",
    "df0.info()"
   ]
  },
  {
   "cell_type": "code",
   "execution_count": null,
   "metadata": {},
   "outputs": [],
   "source": [
    "# Keep only the rows where Event Type is EGV (estimated glucose value)\n",
    "df0 = df0[df0['Event Type'] == 'EGV']"
   ]
  },
  {
   "cell_type": "code",
   "execution_count": null,
   "metadata": {},
   "outputs": [],
   "source": [
    "# Replace Glucose Value (mg/dL) with 40 where it is 'Low'\n",
    "df0['Glucose Value (mg/dL)'] = df0['Glucose Value (mg/dL)'].replace('Low', 40)"
   ]
  },
  {
   "cell_type": "code",
   "execution_count": null,
   "metadata": {},
   "outputs": [],
   "source": [
    "# Convert Glucose Value (mg/dL) to integer\n",
    "df0['Glucose Value (mg/dL)'] = df0['Glucose Value (mg/dL)'].astype(int)"
   ]
  },
  {
   "cell_type": "code",
   "execution_count": null,
   "metadata": {},
   "outputs": [],
   "source": [
    "# Rename and format Timestamp column\n",
    "df0['DateTime'] = pd.to_datetime(df0.pop('Timestamp (YYYY-MM-DDThh:mm:ss)'), format='%Y-%m-%dT%H:%M:%S')"
   ]
  },
  {
   "cell_type": "code",
   "execution_count": null,
   "metadata": {},
   "outputs": [],
   "source": [
    "# Delete Event Type and Index columns\n",
    "df0 = df0.drop(['Event Type', 'Index'], axis=1)"
   ]
  },
  {
   "cell_type": "code",
   "execution_count": null,
   "metadata": {},
   "outputs": [],
   "source": [
    "# Rename Glucose Value (mg/dL) to Value\n",
    "df0 = df0.rename(columns={'Glucose Value (mg/dL)': 'Value'})"
   ]
  },
  {
   "cell_type": "code",
   "execution_count": null,
   "metadata": {},
   "outputs": [],
   "source": [
    "# Create a Date column from the DateTime column\n",
    "df0['Date'] = df0['DateTime'].dt.date"
   ]
  },
  {
   "cell_type": "code",
   "execution_count": null,
   "metadata": {},
   "outputs": [],
   "source": [
    "# Create a Time column from the DateTime column\n",
    "df0['Time'] = df0['DateTime'].dt.time"
   ]
  },
  {
   "cell_type": "code",
   "execution_count": null,
   "metadata": {},
   "outputs": [],
   "source": [
    "# Create a column for Treatment\n",
    "df0['Date'] = pd.to_datetime(df0['Date'])\n",
    "\n",
    "conditions = [\n",
    "    (df0['Date'] > '2024-06-18'),\n",
    "    (df0['Date'] > '2024-01-30'),\n",
    "    (df0['Date'] > '2023-07-18'),\n",
    "    (df0['Date'] > '2023-02-28'),\n",
    "    (df0['Date'] > '2023-01-31')\n",
    "]\n",
    "\n",
    "choices = [\n",
    "    'Mounjaro 12.5',\n",
    "    'Mounjaro 10',\n",
    "    'Mounjaro 7.5',\n",
    "    'Mounjaro 5',\n",
    "    'Mounjaro 2.5'\n",
    "]\n",
    "\n",
    "df0['Treatment'] = np.select(conditions, choices, default='Untreated')"
   ]
  },
  {
   "cell_type": "code",
   "execution_count": null,
   "metadata": {},
   "outputs": [],
   "source": [
    "# Format Time as AM/PM\n",
    "df0['Time'] = df0['Time'].apply(lambda x: x.strftime('%I:%M %p'))"
   ]
  },
  {
   "cell_type": "code",
   "execution_count": null,
   "metadata": {},
   "outputs": [],
   "source": [
    "# Make Sure Date is only the date, not date and time\n",
    "df0['Date'] = df0['Date'].dt.date"
   ]
  },
  {
   "cell_type": "code",
   "execution_count": null,
   "metadata": {},
   "outputs": [],
   "source": [
    "# Drop rows where Date is current date\n",
    "today = datetime.today().date()\n",
    "df0 = df0[df0['Date'] < today]"
   ]
  },
  {
   "cell_type": "code",
   "execution_count": null,
   "metadata": {},
   "outputs": [],
   "source": [
    "# Reorder the columns\n",
    "df0 = df0[['Date', 'Time', 'DateTime', 'Value', 'Treatment']]"
   ]
  },
  {
   "cell_type": "code",
   "execution_count": null,
   "metadata": {},
   "outputs": [],
   "source": [
    "# Add a column for Source\n",
    "df0['Source'] = 'CGM'"
   ]
  },
  {
   "cell_type": "code",
   "execution_count": null,
   "metadata": {},
   "outputs": [],
   "source": [
    "# Display the min and max dates\n",
    "min_date0 = df0['Date'].min()\n",
    "max_date0 = df0['Date'].max()\n",
    "\n",
    "print(\"New Data\")\n",
    "print(\"Min Date:\", min_date0)\n",
    "print(\"Max Date:\", max_date0)"
   ]
  },
  {
   "cell_type": "code",
   "execution_count": null,
   "metadata": {},
   "outputs": [],
   "source": [
    "# Display the first 5 rows of the dataframe (df0)\n",
    "df0.head()"
   ]
  },
  {
   "cell_type": "code",
   "execution_count": null,
   "metadata": {},
   "outputs": [],
   "source": [
    "# Display basic information about the data \n",
    "df0.info()"
   ]
  },
  {
   "cell_type": "code",
   "execution_count": null,
   "metadata": {},
   "outputs": [],
   "source": [
    "# Display basic statistics about the data\n",
    "df0.describe()"
   ]
  },
  {
   "cell_type": "code",
   "execution_count": null,
   "metadata": {},
   "outputs": [],
   "source": [
    "# Reindex df0\n",
    "df0 = df0.reset_index(drop=True)"
   ]
  },
  {
   "cell_type": "code",
   "execution_count": null,
   "metadata": {},
   "outputs": [],
   "source": [
    "# Load Clarity history to df1\n",
    "df1 = pd.read_csv(\"Clarity History.csv\")"
   ]
  },
  {
   "cell_type": "code",
   "execution_count": null,
   "metadata": {},
   "outputs": [],
   "source": [
    "# Display the first 5 rows of the dataframe (df1)\n",
    "df1.head()"
   ]
  },
  {
   "cell_type": "code",
   "execution_count": null,
   "metadata": {},
   "outputs": [],
   "source": [
    "# Display basic information about the data \n",
    "df1.info()"
   ]
  },
  {
   "cell_type": "code",
   "execution_count": null,
   "metadata": {},
   "outputs": [],
   "source": [
    "# Display the min and max dates\n",
    "min_date1 = df1['Date'].min()\n",
    "max_date1 = df1['Date'].max()\n",
    "\n",
    "print(\"Saved Data\")\n",
    "print(\"Min Date:\", min_date1)\n",
    "print(\"Max Date:\", max_date1)"
   ]
  },
  {
   "cell_type": "code",
   "execution_count": null,
   "metadata": {},
   "outputs": [],
   "source": [
    "# Concatenate df0 and df1\n",
    "df2 = pd.concat([df0, df1])"
   ]
  },
  {
   "cell_type": "code",
   "execution_count": null,
   "metadata": {},
   "outputs": [],
   "source": [
    "# Reindex df2\n",
    "df2 = df2.reset_index(drop=True)"
   ]
  },
  {
   "cell_type": "code",
   "execution_count": null,
   "metadata": {},
   "outputs": [],
   "source": [
    "# Display the first 5 rows of the dataframe (df2)\n",
    "df2.head()"
   ]
  },
  {
   "cell_type": "code",
   "execution_count": null,
   "metadata": {},
   "outputs": [],
   "source": [
    "# Display basic information about the data \n",
    "df2.info()"
   ]
  },
  {
   "cell_type": "code",
   "execution_count": null,
   "metadata": {},
   "outputs": [],
   "source": [
    "# Convert DateTime to datetime format\n",
    "df2['DateTime'] = pd.to_datetime(df2['DateTime'])"
   ]
  },
  {
   "cell_type": "code",
   "execution_count": null,
   "metadata": {},
   "outputs": [],
   "source": [
    "# Sort df2 by DateTime\n",
    "df2 = df2.sort_values(by='DateTime')"
   ]
  },
  {
   "cell_type": "code",
   "execution_count": null,
   "metadata": {},
   "outputs": [],
   "source": [
    "# Convert Date to datetime format\n",
    "df2['Date'] = pd.to_datetime(df2['Date'])"
   ]
  },
  {
   "cell_type": "code",
   "execution_count": null,
   "metadata": {},
   "outputs": [],
   "source": [
    "# Find the most recent 90 days by Date in df2\n",
    "most_recent_date = df2['Date'].max()\n",
    "ninety_days_ago = most_recent_date - pd.DateOffset(days=90)"
   ]
  },
  {
   "cell_type": "code",
   "execution_count": null,
   "metadata": {},
   "outputs": [],
   "source": [
    "# Make Sure Date is only the date, not date and time\n",
    "df2['Date'] = df2['Date'].dt.date"
   ]
  },
  {
   "cell_type": "code",
   "execution_count": null,
   "metadata": {},
   "outputs": [],
   "source": [
    "# Verify that all dates are consecutive\n",
    "\n",
    "print(\"Saved Data\")\n",
    "print(\"Min Date:\", min_date1)\n",
    "print(\"Max Date:\", max_date1)\n",
    "print(\"\")\n",
    "\n",
    "print(\"New Data\")\n",
    "print(\"Min Date:\", min_date0)\n",
    "print(\"Max Date:\", max_date0)\n",
    "print(\"\")\n",
    "\n",
    "# Get the min and max dates\n",
    "min_date2 = df2['Date'].min()\n",
    "max_date2 = df2['Date'].max()\n",
    "\n",
    "print (\"Combined Data\")\n",
    "print(\"Min Date:\", min_date2)\n",
    "print(\"Max Date:\", max_date2)\n",
    "\n",
    "# Create a complete date range from min to max date\n",
    "complete_date_range = pd.date_range(start=min_date2, end=max_date2, freq='D')\n",
    "\n",
    "# Get the unique dates from your dataset\n",
    "unique_dates = pd.to_datetime(df2['Date']).sort_values().unique()\n",
    "\n",
    "# Check for missing dates using numpy set difference\n",
    "missing_dates = np.setdiff1d(complete_date_range, unique_dates)\n",
    "\n",
    "# Display missing dates, if any\n",
    "if len(missing_dates) > 0:\n",
    "    print(\"Missing dates:\")\n",
    "    print(missing_dates)\n",
    "else:\n",
    "    print(\"No missing dates, all dates are consecutive.\")"
   ]
  },
  {
   "cell_type": "code",
   "execution_count": null,
   "metadata": {},
   "outputs": [],
   "source": [
    "# Verify the dataset\n",
    "df2.info()"
   ]
  },
  {
   "cell_type": "code",
   "execution_count": null,
   "metadata": {},
   "outputs": [],
   "source": [
    "# Find and count duplicate rows\n",
    "duplicate_count = df2.duplicated().sum()\n",
    "\n",
    "print(f\"Number of duplicate rows: {duplicate_count}\")"
   ]
  },
  {
   "cell_type": "code",
   "execution_count": null,
   "metadata": {},
   "outputs": [],
   "source": [
    "# Delete duplicate rows\n",
    "df2 = df2.drop_duplicates()"
   ]
  },
  {
   "cell_type": "code",
   "execution_count": null,
   "metadata": {},
   "outputs": [],
   "source": [
    "# Find and count duplicate rows\n",
    "duplicate_count = df2.duplicated().sum()\n",
    "\n",
    "print(f\"Number of duplicate rows: {duplicate_count}\")"
   ]
  },
  {
   "cell_type": "code",
   "execution_count": null,
   "metadata": {},
   "outputs": [],
   "source": [
    "# Reindex df2\n",
    "df2 = df2.reset_index(drop=True)"
   ]
  },
  {
   "cell_type": "code",
   "execution_count": null,
   "metadata": {},
   "outputs": [],
   "source": [
    "# Validate the dataset\n",
    "df2.info()"
   ]
  },
  {
   "cell_type": "code",
   "execution_count": null,
   "metadata": {},
   "outputs": [],
   "source": [
    "# Save updated hsitory to a csv file\n",
    "df2.to_csv('Clarity History.csv', index=False)"
   ]
  },
  {
   "cell_type": "code",
   "execution_count": null,
   "metadata": {},
   "outputs": [],
   "source": [
    "# Delete rows where Date is before ninety_days_ago\n",
    "df2['Date'] = pd.to_datetime(df2['Date'])\n",
    "df2 = df2[df2['Date'] > ninety_days_ago]\n",
    "df2['Date'] = df2['Date'].dt.date"
   ]
  },
  {
   "cell_type": "code",
   "execution_count": null,
   "metadata": {},
   "outputs": [],
   "source": [
    "# Verify the changes\n",
    "df2.info()"
   ]
  },
  {
   "cell_type": "code",
   "execution_count": null,
   "metadata": {},
   "outputs": [],
   "source": [
    "# Save df2 to a csv file\n",
    "df2.to_csv('Clarity Readings for Analysis.csv', index=False)"
   ]
  }
 ],
 "metadata": {
  "kernelspec": {
   "display_name": "Python 3",
   "language": "python",
   "name": "python3"
  },
  "language_info": {
   "codemirror_mode": {
    "name": "ipython",
    "version": 3
   },
   "file_extension": ".py",
   "mimetype": "text/x-python",
   "name": "python",
   "nbconvert_exporter": "python",
   "pygments_lexer": "ipython3",
   "version": "3.13.0"
  }
 },
 "nbformat": 4,
 "nbformat_minor": 2
}
